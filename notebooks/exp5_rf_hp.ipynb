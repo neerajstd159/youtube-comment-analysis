{
 "cells": [
  {
   "cell_type": "code",
   "execution_count": 1,
   "metadata": {},
   "outputs": [],
   "source": [
    "import numpy as np\n",
    "import pandas as pd\n",
    "import mlflow"
   ]
  },
  {
   "cell_type": "code",
   "execution_count": 2,
   "metadata": {},
   "outputs": [
    {
     "data": {
      "text/plain": [
       "<Experiment: artifact_location='s3://neeraj-first-bucket/870835495118995563', creation_time=1736945300249, experiment_id='870835495118995563', last_update_time=1736945300249, lifecycle_stage='active', name='Exp 5 - ML Algos with HP Tuning', tags={}>"
      ]
     },
     "execution_count": 2,
     "metadata": {},
     "output_type": "execute_result"
    }
   ],
   "source": [
    "mlflow.set_tracking_uri('http://ec2-13-61-2-37.eu-north-1.compute.amazonaws.com:5000')\n",
    "mlflow.set_experiment('Exp 5 - ML Algos with HP Tuning')"
   ]
  },
  {
   "cell_type": "code",
   "execution_count": 3,
   "metadata": {},
   "outputs": [
    {
     "name": "stderr",
     "output_type": "stream",
     "text": [
      "c:\\data\\projects\\comment_analysis\\myenv\\Lib\\site-packages\\tqdm\\auto.py:21: TqdmWarning: IProgress not found. Please update jupyter and ipywidgets. See https://ipywidgets.readthedocs.io/en/stable/user_install.html\n",
      "  from .autonotebook import tqdm as notebook_tqdm\n"
     ]
    }
   ],
   "source": [
    "from sklearn.ensemble import RandomForestClassifier\n",
    "from sklearn.feature_extraction.text import TfidfVectorizer\n",
    "from sklearn.model_selection import train_test_split\n",
    "from sklearn.metrics import accuracy_score, classification_report\n",
    "from imblearn.over_sampling import ADASYN\n",
    "import optuna"
   ]
  },
  {
   "cell_type": "code",
   "execution_count": 4,
   "metadata": {},
   "outputs": [
    {
     "data": {
      "text/html": [
       "<div>\n",
       "<style scoped>\n",
       "    .dataframe tbody tr th:only-of-type {\n",
       "        vertical-align: middle;\n",
       "    }\n",
       "\n",
       "    .dataframe tbody tr th {\n",
       "        vertical-align: top;\n",
       "    }\n",
       "\n",
       "    .dataframe thead th {\n",
       "        text-align: right;\n",
       "    }\n",
       "</style>\n",
       "<table border=\"1\" class=\"dataframe\">\n",
       "  <thead>\n",
       "    <tr style=\"text-align: right;\">\n",
       "      <th></th>\n",
       "      <th>clean_comment</th>\n",
       "      <th>category</th>\n",
       "    </tr>\n",
       "  </thead>\n",
       "  <tbody>\n",
       "    <tr>\n",
       "      <th>0</th>\n",
       "      <td>family mormon never tried explain still stare ...</td>\n",
       "      <td>1</td>\n",
       "    </tr>\n",
       "    <tr>\n",
       "      <th>1</th>\n",
       "      <td>buddhism much lot compatible christianity espe...</td>\n",
       "      <td>1</td>\n",
       "    </tr>\n",
       "    <tr>\n",
       "      <th>2</th>\n",
       "      <td>seriously say thing first get complex explain ...</td>\n",
       "      <td>-1</td>\n",
       "    </tr>\n",
       "    <tr>\n",
       "      <th>3</th>\n",
       "      <td>learned want teach different focus goal not wr...</td>\n",
       "      <td>0</td>\n",
       "    </tr>\n",
       "    <tr>\n",
       "      <th>4</th>\n",
       "      <td>benefit may want read living buddha living chr...</td>\n",
       "      <td>1</td>\n",
       "    </tr>\n",
       "  </tbody>\n",
       "</table>\n",
       "</div>"
      ],
      "text/plain": [
       "                                       clean_comment  category\n",
       "0  family mormon never tried explain still stare ...         1\n",
       "1  buddhism much lot compatible christianity espe...         1\n",
       "2  seriously say thing first get complex explain ...        -1\n",
       "3  learned want teach different focus goal not wr...         0\n",
       "4  benefit may want read living buddha living chr...         1"
      ]
     },
     "execution_count": 4,
     "metadata": {},
     "output_type": "execute_result"
    }
   ],
   "source": [
    "df = pd.read_csv('dataset.csv')\n",
    "df.dropna(inplace=True)\n",
    "df.head()"
   ]
  },
  {
   "cell_type": "code",
   "execution_count": 5,
   "metadata": {},
   "outputs": [],
   "source": [
    "X_train, X_test, y_train, y_test = train_test_split(df['clean_comment'], df['category'], test_size=0.2)\n",
    "\n",
    "# vectorizer\n",
    "ngram_range = (1,2)\n",
    "max_features = 2000\n",
    "vectorizer = TfidfVectorizer(max_features=max_features, ngram_range=ngram_range)\n",
    "X_train_trf = vectorizer.fit_transform(X_train)\n",
    "X_test_trf = vectorizer.fit_transform(X_test)\n",
    "\n",
    "# oversampling\n",
    "adasyn = ADASYN(random_state=42)\n",
    "X_train_trf, y_train = adasyn.fit_resample(X_train_trf, y_train)\n"
   ]
  },
  {
   "cell_type": "code",
   "execution_count": 6,
   "metadata": {},
   "outputs": [],
   "source": [
    "def log_mlflow(model_name, model, X_train, y_train, X_test, y_test):\n",
    "    with mlflow.start_run():\n",
    "        mlflow.set_tag(\"mlflow.runName\", f\"{model_name}_Adasyn_Tfidf_Bigram\")\n",
    "        mlflow.set_tag(\"experiment_type\", \"algorithm_comparison\")\n",
    "        mlflow.log_param(\"algorithm\", model_name)\n",
    "\n",
    "        # model\n",
    "        model.fit(X_train, y_train)\n",
    "        y_pred = model.predict(X_test)\n",
    "\n",
    "        # metrics\n",
    "        accuracy = accuracy_score(y_test, y_pred)\n",
    "        class_report = classification_report(y_test, y_pred, output_dict=True)\n",
    "\n",
    "        mlflow.log_metric(\"accoracy\", accuracy)\n",
    "        for label, metrics in class_report.items():\n",
    "            if isinstance(metrics, dict):\n",
    "                for metric, value in metrics.items():\n",
    "                    mlflow.log_metric(f\"{label}_{metric}\", value)\n",
    "\n",
    "        mlflow.sklearn.log_model(model, f\"{model_name}_model\")"
   ]
  },
  {
   "cell_type": "code",
   "execution_count": 7,
   "metadata": {},
   "outputs": [],
   "source": [
    "def objective_rf(trial):\n",
    "    n_estimators = trial.suggest_int('n_estimators', 50, 300)\n",
    "    max_depth = trial.suggest_int('max_depth', 3, 15)\n",
    "    min_samples_leaf = trial.suggest_int('min_samples_leaf', 1, 20)\n",
    "    min_samples_split = trial.suggest_int('min_samples_split', 2, 20)\n",
    "\n",
    "    model = RandomForestClassifier(n_estimators=n_estimators, max_depth=max_depth, min_samples_leaf=min_samples_leaf, min_samples_split=min_samples_split)\n",
    "    return accuracy_score(y_test, model.fit(X_train_trf, y_train).predict(X_test_trf))"
   ]
  },
  {
   "cell_type": "code",
   "execution_count": 8,
   "metadata": {},
   "outputs": [],
   "source": [
    "def optuna_run_experiment():\n",
    "    study = optuna.create_study(direction='maximize')\n",
    "    study.optimize(objective_rf, n_trials=30)\n",
    "\n",
    "    best_params = study.best_params\n",
    "    best_model = RandomForestClassifier(n_estimators=best_params['n_estimators'], max_depth=best_params['max_depth'], min_samples_leaf=best_params['min_samples_leaf'], min_samples_split=best_params['min_samples_split'])\n",
    "    \n",
    "    log_mlflow(\"rf\", best_model, X_train_trf, y_train, X_test_trf, y_test)"
   ]
  },
  {
   "cell_type": "code",
   "execution_count": 9,
   "metadata": {},
   "outputs": [
    {
     "name": "stderr",
     "output_type": "stream",
     "text": [
      "[I 2025-01-17 12:01:23,369] A new study created in memory with name: no-name-7da2b293-9bab-4f29-8248-ba117813387b\n",
      "[I 2025-01-17 12:01:30,647] Trial 0 finished with value: 0.40720032728760397 and parameters: {'n_estimators': 187, 'max_depth': 13, 'min_samples_leaf': 16, 'min_samples_split': 19}. Best is trial 0 with value: 0.40720032728760397.\n",
      "[I 2025-01-17 12:01:38,707] Trial 1 finished with value: 0.40733669712259646 and parameters: {'n_estimators': 174, 'max_depth': 12, 'min_samples_leaf': 6, 'min_samples_split': 9}. Best is trial 1 with value: 0.40733669712259646.\n",
      "[I 2025-01-17 12:01:39,711] Trial 2 finished with value: 0.409109504977499 and parameters: {'n_estimators': 93, 'max_depth': 5, 'min_samples_leaf': 7, 'min_samples_split': 18}. Best is trial 2 with value: 0.409109504977499.\n",
      "[I 2025-01-17 12:01:41,515] Trial 3 finished with value: 0.40856402563752897 and parameters: {'n_estimators': 85, 'max_depth': 12, 'min_samples_leaf': 20, 'min_samples_split': 15}. Best is trial 2 with value: 0.409109504977499.\n",
      "[I 2025-01-17 12:01:42,340] Trial 4 finished with value: 0.41647347606709395 and parameters: {'n_estimators': 116, 'max_depth': 3, 'min_samples_leaf': 10, 'min_samples_split': 6}. Best is trial 4 with value: 0.41647347606709395.\n",
      "[I 2025-01-17 12:01:44,483] Trial 5 finished with value: 0.4021546433928815 and parameters: {'n_estimators': 93, 'max_depth': 10, 'min_samples_leaf': 19, 'min_samples_split': 14}. Best is trial 4 with value: 0.41647347606709395.\n",
      "[I 2025-01-17 12:01:49,539] Trial 6 finished with value: 0.40801854629755896 and parameters: {'n_estimators': 228, 'max_depth': 9, 'min_samples_leaf': 2, 'min_samples_split': 8}. Best is trial 4 with value: 0.41647347606709395.\n",
      "[I 2025-01-17 12:01:56,064] Trial 7 finished with value: 0.4111550525023865 and parameters: {'n_estimators': 209, 'max_depth': 14, 'min_samples_leaf': 7, 'min_samples_split': 11}. Best is trial 4 with value: 0.41647347606709395.\n",
      "[I 2025-01-17 12:01:58,737] Trial 8 finished with value: 0.409927723987454 and parameters: {'n_estimators': 209, 'max_depth': 6, 'min_samples_leaf': 11, 'min_samples_split': 8}. Best is trial 4 with value: 0.41647347606709395.\n",
      "[I 2025-01-17 12:02:00,537] Trial 9 finished with value: 0.4106095731624165 and parameters: {'n_estimators': 170, 'max_depth': 5, 'min_samples_leaf': 4, 'min_samples_split': 18}. Best is trial 4 with value: 0.41647347606709395.\n",
      "[I 2025-01-17 12:02:02,738] Trial 10 finished with value: 0.403927451247784 and parameters: {'n_estimators': 296, 'max_depth': 3, 'min_samples_leaf': 12, 'min_samples_split': 2}. Best is trial 4 with value: 0.41647347606709395.\n",
      "[I 2025-01-17 12:02:06,027] Trial 11 finished with value: 0.40938224464748396 and parameters: {'n_estimators': 134, 'max_depth': 14, 'min_samples_leaf': 9, 'min_samples_split': 4}. Best is trial 4 with value: 0.41647347606709395.\n",
      "[I 2025-01-17 12:02:12,337] Trial 12 finished with value: 0.40788217646256647 and parameters: {'n_estimators': 266, 'max_depth': 15, 'min_samples_leaf': 14, 'min_samples_split': 5}. Best is trial 4 with value: 0.41647347606709395.\n",
      "[I 2025-01-17 12:02:13,091] Trial 13 finished with value: 0.40870039547252146 and parameters: {'n_estimators': 52, 'max_depth': 7, 'min_samples_leaf': 9, 'min_samples_split': 12}. Best is trial 4 with value: 0.41647347606709395.\n",
      "[I 2025-01-17 12:02:14,160] Trial 14 finished with value: 0.4043365607527615 and parameters: {'n_estimators': 132, 'max_depth': 3, 'min_samples_leaf': 1, 'min_samples_split': 11}. Best is trial 4 with value: 0.41647347606709395.\n",
      "[I 2025-01-17 12:02:16,255] Trial 15 finished with value: 0.40870039547252146 and parameters: {'n_estimators': 138, 'max_depth': 8, 'min_samples_leaf': 6, 'min_samples_split': 6}. Best is trial 4 with value: 0.41647347606709395.\n",
      "[I 2025-01-17 12:02:20,990] Trial 16 finished with value: 0.40665484794763396 and parameters: {'n_estimators': 246, 'max_depth': 10, 'min_samples_leaf': 13, 'min_samples_split': 14}. Best is trial 4 with value: 0.41647347606709395.\n",
      "[I 2025-01-17 12:02:24,286] Trial 17 finished with value: 0.409109504977499 and parameters: {'n_estimators': 153, 'max_depth': 11, 'min_samples_leaf': 9, 'min_samples_split': 2}. Best is trial 4 with value: 0.41647347606709395.\n",
      "[I 2025-01-17 12:02:28,965] Trial 18 finished with value: 0.409109504977499 and parameters: {'n_estimators': 195, 'max_depth': 15, 'min_samples_leaf': 16, 'min_samples_split': 11}. Best is trial 4 with value: 0.41647347606709395.\n",
      "[I 2025-01-17 12:02:31,075] Trial 19 finished with value: 0.417564434747034 and parameters: {'n_estimators': 114, 'max_depth': 8, 'min_samples_leaf': 4, 'min_samples_split': 10}. Best is trial 19 with value: 0.417564434747034.\n",
      "[I 2025-01-17 12:02:32,202] Trial 20 finished with value: 0.41292786035728896 and parameters: {'n_estimators': 116, 'max_depth': 4, 'min_samples_leaf': 4, 'min_samples_split': 7}. Best is trial 19 with value: 0.417564434747034.\n",
      "[I 2025-01-17 12:02:33,297] Trial 21 finished with value: 0.4119732715123415 and parameters: {'n_estimators': 110, 'max_depth': 4, 'min_samples_leaf': 3, 'min_samples_split': 7}. Best is trial 19 with value: 0.417564434747034.\n",
      "[I 2025-01-17 12:02:34,545] Trial 22 finished with value: 0.398472657848084 and parameters: {'n_estimators': 74, 'max_depth': 7, 'min_samples_leaf': 4, 'min_samples_split': 4}. Best is trial 19 with value: 0.417564434747034.\n",
      "[I 2025-01-17 12:02:35,534] Trial 23 finished with value: 0.397108959498159 and parameters: {'n_estimators': 107, 'max_depth': 4, 'min_samples_leaf': 5, 'min_samples_split': 9}. Best is trial 19 with value: 0.417564434747034.\n",
      "[I 2025-01-17 12:02:36,791] Trial 24 finished with value: 0.405563889267694 and parameters: {'n_estimators': 115, 'max_depth': 5, 'min_samples_leaf': 2, 'min_samples_split': 6}. Best is trial 19 with value: 0.417564434747034.\n",
      "[I 2025-01-17 12:02:37,358] Trial 25 finished with value: 0.396836219828174 and parameters: {'n_estimators': 60, 'max_depth': 3, 'min_samples_leaf': 8, 'min_samples_split': 9}. Best is trial 19 with value: 0.417564434747034.\n",
      "[I 2025-01-17 12:02:39,452] Trial 26 finished with value: 0.4021546433928815 and parameters: {'n_estimators': 153, 'max_depth': 7, 'min_samples_leaf': 4, 'min_samples_split': 7}. Best is trial 19 with value: 0.417564434747034.\n",
      "[I 2025-01-17 12:02:40,556] Trial 27 finished with value: 0.4035183417428065 and parameters: {'n_estimators': 120, 'max_depth': 4, 'min_samples_leaf': 1, 'min_samples_split': 4}. Best is trial 19 with value: 0.417564434747034.\n",
      "[I 2025-01-17 12:02:41,433] Trial 28 finished with value: 0.4007909450429565 and parameters: {'n_estimators': 71, 'max_depth': 6, 'min_samples_leaf': 10, 'min_samples_split': 10}. Best is trial 19 with value: 0.417564434747034.\n",
      "[I 2025-01-17 12:02:43,623] Trial 29 finished with value: 0.407473066957589 and parameters: {'n_estimators': 153, 'max_depth': 8, 'min_samples_leaf': 16, 'min_samples_split': 13}. Best is trial 19 with value: 0.417564434747034.\n",
      "2025/01/17 12:03:02 WARNING mlflow.models.model: Model logged without a signature and input example. Please set `input_example` parameter when logging the model to auto infer the model signature.\n"
     ]
    },
    {
     "name": "stdout",
     "output_type": "stream",
     "text": [
      "🏃 View run rf_Adasyn_Tfidf_Bigram at: http://ec2-13-61-2-37.eu-north-1.compute.amazonaws.com:5000/#/experiments/870835495118995563/runs/8b5126d99ad148029bff281778a19aad\n",
      "🧪 View experiment at: http://ec2-13-61-2-37.eu-north-1.compute.amazonaws.com:5000/#/experiments/870835495118995563\n"
     ]
    }
   ],
   "source": [
    "optuna_run_experiment()"
   ]
  }
 ],
 "metadata": {
  "kernelspec": {
   "display_name": "myenv",
   "language": "python",
   "name": "python3"
  },
  "language_info": {
   "codemirror_mode": {
    "name": "ipython",
    "version": 3
   },
   "file_extension": ".py",
   "mimetype": "text/x-python",
   "name": "python",
   "nbconvert_exporter": "python",
   "pygments_lexer": "ipython3",
   "version": "3.13.0"
  }
 },
 "nbformat": 4,
 "nbformat_minor": 2
}
