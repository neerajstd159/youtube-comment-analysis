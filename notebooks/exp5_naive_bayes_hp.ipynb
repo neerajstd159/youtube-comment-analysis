{
 "cells": [
  {
   "cell_type": "code",
   "execution_count": 1,
   "metadata": {},
   "outputs": [],
   "source": [
    "import numpy as np\n",
    "import pandas as pd\n",
    "import mlflow"
   ]
  },
  {
   "cell_type": "code",
   "execution_count": 2,
   "metadata": {},
   "outputs": [
    {
     "data": {
      "text/plain": [
       "<Experiment: artifact_location='s3://neeraj-first-bucket/870835495118995563', creation_time=1736945300249, experiment_id='870835495118995563', last_update_time=1736945300249, lifecycle_stage='active', name='Exp 5 - ML Algos with HP Tuning', tags={}>"
      ]
     },
     "execution_count": 2,
     "metadata": {},
     "output_type": "execute_result"
    }
   ],
   "source": [
    "mlflow.set_tracking_uri('http://ec2-13-61-2-37.eu-north-1.compute.amazonaws.com:5000')\n",
    "mlflow.set_experiment('Exp 5 - ML Algos with HP Tuning')"
   ]
  },
  {
   "cell_type": "code",
   "execution_count": 3,
   "metadata": {},
   "outputs": [
    {
     "name": "stderr",
     "output_type": "stream",
     "text": [
      "c:\\data\\projects\\comment_analysis\\myenv\\Lib\\site-packages\\tqdm\\auto.py:21: TqdmWarning: IProgress not found. Please update jupyter and ipywidgets. See https://ipywidgets.readthedocs.io/en/stable/user_install.html\n",
      "  from .autonotebook import tqdm as notebook_tqdm\n"
     ]
    }
   ],
   "source": [
    "from sklearn.naive_bayes import MultinomialNB\n",
    "from sklearn.feature_extraction.text import TfidfVectorizer\n",
    "from sklearn.model_selection import train_test_split\n",
    "from sklearn.metrics import accuracy_score, classification_report\n",
    "from imblearn.over_sampling import ADASYN\n",
    "import optuna"
   ]
  },
  {
   "cell_type": "code",
   "execution_count": 4,
   "metadata": {},
   "outputs": [
    {
     "data": {
      "text/html": [
       "<div>\n",
       "<style scoped>\n",
       "    .dataframe tbody tr th:only-of-type {\n",
       "        vertical-align: middle;\n",
       "    }\n",
       "\n",
       "    .dataframe tbody tr th {\n",
       "        vertical-align: top;\n",
       "    }\n",
       "\n",
       "    .dataframe thead th {\n",
       "        text-align: right;\n",
       "    }\n",
       "</style>\n",
       "<table border=\"1\" class=\"dataframe\">\n",
       "  <thead>\n",
       "    <tr style=\"text-align: right;\">\n",
       "      <th></th>\n",
       "      <th>clean_comment</th>\n",
       "      <th>category</th>\n",
       "    </tr>\n",
       "  </thead>\n",
       "  <tbody>\n",
       "    <tr>\n",
       "      <th>0</th>\n",
       "      <td>family mormon never tried explain still stare ...</td>\n",
       "      <td>1</td>\n",
       "    </tr>\n",
       "    <tr>\n",
       "      <th>1</th>\n",
       "      <td>buddhism much lot compatible christianity espe...</td>\n",
       "      <td>1</td>\n",
       "    </tr>\n",
       "    <tr>\n",
       "      <th>2</th>\n",
       "      <td>seriously say thing first get complex explain ...</td>\n",
       "      <td>-1</td>\n",
       "    </tr>\n",
       "    <tr>\n",
       "      <th>3</th>\n",
       "      <td>learned want teach different focus goal not wr...</td>\n",
       "      <td>0</td>\n",
       "    </tr>\n",
       "    <tr>\n",
       "      <th>4</th>\n",
       "      <td>benefit may want read living buddha living chr...</td>\n",
       "      <td>1</td>\n",
       "    </tr>\n",
       "  </tbody>\n",
       "</table>\n",
       "</div>"
      ],
      "text/plain": [
       "                                       clean_comment  category\n",
       "0  family mormon never tried explain still stare ...         1\n",
       "1  buddhism much lot compatible christianity espe...         1\n",
       "2  seriously say thing first get complex explain ...        -1\n",
       "3  learned want teach different focus goal not wr...         0\n",
       "4  benefit may want read living buddha living chr...         1"
      ]
     },
     "execution_count": 4,
     "metadata": {},
     "output_type": "execute_result"
    }
   ],
   "source": [
    "df = pd.read_csv('dataset.csv')\n",
    "df.dropna(inplace=True)\n",
    "df.head()"
   ]
  },
  {
   "cell_type": "code",
   "execution_count": 5,
   "metadata": {},
   "outputs": [],
   "source": [
    "X_train, X_test, y_train, y_test = train_test_split(df['clean_comment'], df['category'], test_size=0.2)\n",
    "\n",
    "# vectorizer\n",
    "ngram_range = (1,2)\n",
    "max_features = 2000\n",
    "vectorizer = TfidfVectorizer(max_features=max_features, ngram_range=ngram_range)\n",
    "X_train_trf = vectorizer.fit_transform(X_train)\n",
    "X_test_trf = vectorizer.fit_transform(X_test)\n",
    "\n",
    "# oversampling\n",
    "adasyn = ADASYN(random_state=42)\n",
    "X_train_trf, y_train = adasyn.fit_resample(X_train_trf, y_train)\n"
   ]
  },
  {
   "cell_type": "code",
   "execution_count": 6,
   "metadata": {},
   "outputs": [],
   "source": [
    "def log_mlflow(model_name, model, X_train, y_train, X_test, y_test):\n",
    "    with mlflow.start_run():\n",
    "        mlflow.set_tag(\"mlflow.runName\", f\"{model_name}_Adasyn_Tfidf_Bigram\")\n",
    "        mlflow.set_tag(\"experiment_type\", \"algorithm_comparison\")\n",
    "        mlflow.log_param(\"algorithm\", model_name)\n",
    "\n",
    "        # model\n",
    "        model.fit(X_train, y_train)\n",
    "        y_pred = model.predict(X_test)\n",
    "\n",
    "        # metrics\n",
    "        accuracy = accuracy_score(y_test, y_pred)\n",
    "        class_report = classification_report(y_test, y_pred, output_dict=True)\n",
    "\n",
    "        mlflow.log_metric(\"accoracy\", accuracy)\n",
    "        for label, metrics in class_report.items():\n",
    "            if isinstance(metrics, dict):\n",
    "                for metric, value in metrics.items():\n",
    "                    mlflow.log_metric(f\"{label}_{metric}\", value)\n",
    "\n",
    "        mlflow.sklearn.log_model(model, f\"{model_name}_model\")"
   ]
  },
  {
   "cell_type": "code",
   "execution_count": 7,
   "metadata": {},
   "outputs": [],
   "source": [
    "def objective_naive_bayes(trial):\n",
    "    alpha = trial.suggest_float('alpha', 1e-4, 1.0, log=True)\n",
    "\n",
    "    model = MultinomialNB(alpha=alpha)\n",
    "    return accuracy_score(y_test, model.fit(X_train_trf, y_train).predict(X_test_trf))"
   ]
  },
  {
   "cell_type": "code",
   "execution_count": 8,
   "metadata": {},
   "outputs": [],
   "source": [
    "def optuna_run_experiment():\n",
    "    study = optuna.create_study(direction='maximize')\n",
    "    study.optimize(objective_naive_bayes, n_trials=30)\n",
    "\n",
    "    best_params = study.best_params\n",
    "    best_model = MultinomialNB(alpha=best_params['alpha'])\n",
    "    \n",
    "    log_mlflow(\"NaiveBayes\", best_model, X_train_trf, y_train, X_test_trf, y_test)"
   ]
  },
  {
   "cell_type": "code",
   "execution_count": 9,
   "metadata": {},
   "outputs": [
    {
     "name": "stderr",
     "output_type": "stream",
     "text": [
      "[I 2025-01-17 11:55:41,860] A new study created in memory with name: no-name-d9210df3-af06-43af-ae63-76800354757e\n",
      "[I 2025-01-17 11:55:41,875] Trial 0 finished with value: 0.40447293058775396 and parameters: {'alpha': 0.23310296632132946}. Best is trial 0 with value: 0.40447293058775396.\n",
      "[I 2025-01-17 11:55:41,884] Trial 1 finished with value: 0.403927451247784 and parameters: {'alpha': 0.26985813234503025}. Best is trial 0 with value: 0.40447293058775396.\n",
      "[I 2025-01-17 11:55:41,894] Trial 2 finished with value: 0.4111550525023865 and parameters: {'alpha': 0.02469063357448463}. Best is trial 2 with value: 0.4111550525023865.\n",
      "[I 2025-01-17 11:55:41,904] Trial 3 finished with value: 0.4138824492022365 and parameters: {'alpha': 0.004992309572104534}. Best is trial 3 with value: 0.4138824492022365.\n",
      "[I 2025-01-17 11:55:41,914] Trial 4 finished with value: 0.4147006682121915 and parameters: {'alpha': 0.0016629676766933303}. Best is trial 4 with value: 0.4147006682121915.\n",
      "[I 2025-01-17 11:55:41,927] Trial 5 finished with value: 0.39519978180826404 and parameters: {'alpha': 0.6184275751577211}. Best is trial 4 with value: 0.4147006682121915.\n",
      "[I 2025-01-17 11:55:41,937] Trial 6 finished with value: 0.415382517387154 and parameters: {'alpha': 0.00041117205069658247}. Best is trial 6 with value: 0.415382517387154.\n",
      "[I 2025-01-17 11:55:41,948] Trial 7 finished with value: 0.4147006682121915 and parameters: {'alpha': 0.0017431413221016111}. Best is trial 6 with value: 0.415382517387154.\n",
      "[I 2025-01-17 11:55:41,958] Trial 8 finished with value: 0.415382517387154 and parameters: {'alpha': 0.0003448936347469936}. Best is trial 6 with value: 0.415382517387154.\n",
      "[I 2025-01-17 11:55:41,967] Trial 9 finished with value: 0.4133369698622665 and parameters: {'alpha': 0.01119419675735702}. Best is trial 6 with value: 0.415382517387154.\n",
      "[I 2025-01-17 11:55:41,982] Trial 10 finished with value: 0.41524614755216144 and parameters: {'alpha': 0.00012851190724870074}. Best is trial 6 with value: 0.415382517387154.\n",
      "[I 2025-01-17 11:55:41,995] Trial 11 finished with value: 0.415382517387154 and parameters: {'alpha': 0.00020234997880697812}. Best is trial 6 with value: 0.415382517387154.\n",
      "[I 2025-01-17 11:55:42,007] Trial 12 finished with value: 0.415382517387154 and parameters: {'alpha': 0.0004804244094184119}. Best is trial 6 with value: 0.415382517387154.\n",
      "[I 2025-01-17 11:55:42,021] Trial 13 finished with value: 0.41510977771716895 and parameters: {'alpha': 0.0006753814623350112}. Best is trial 6 with value: 0.415382517387154.\n",
      "[I 2025-01-17 11:55:42,032] Trial 14 finished with value: 0.41524614755216144 and parameters: {'alpha': 0.0001052466284138001}. Best is trial 6 with value: 0.415382517387154.\n",
      "[I 2025-01-17 11:55:42,045] Trial 15 finished with value: 0.4092458748124915 and parameters: {'alpha': 0.0475967977312674}. Best is trial 6 with value: 0.415382517387154.\n",
      "[I 2025-01-17 11:55:42,059] Trial 16 finished with value: 0.41510977771716895 and parameters: {'alpha': 0.0006320164567271065}. Best is trial 6 with value: 0.415382517387154.\n",
      "[I 2025-01-17 11:55:42,071] Trial 17 finished with value: 0.41429155870721396 and parameters: {'alpha': 0.003183986202924395}. Best is trial 6 with value: 0.415382517387154.\n",
      "[I 2025-01-17 11:55:42,084] Trial 18 finished with value: 0.415382517387154 and parameters: {'alpha': 0.0004241110438165481}. Best is trial 6 with value: 0.415382517387154.\n",
      "[I 2025-01-17 11:55:42,096] Trial 19 finished with value: 0.41483703804718397 and parameters: {'alpha': 0.001160180372290887}. Best is trial 6 with value: 0.415382517387154.\n",
      "[I 2025-01-17 11:55:42,108] Trial 20 finished with value: 0.41551888722214647 and parameters: {'alpha': 0.00029409018754371347}. Best is trial 20 with value: 0.41551888722214647.\n",
      "[I 2025-01-17 11:55:42,122] Trial 21 finished with value: 0.41551888722214647 and parameters: {'alpha': 0.00026063484056695473}. Best is trial 20 with value: 0.41551888722214647.\n",
      "[I 2025-01-17 11:55:42,135] Trial 22 finished with value: 0.415382517387154 and parameters: {'alpha': 0.00022775220652066592}. Best is trial 20 with value: 0.41551888722214647.\n",
      "[I 2025-01-17 11:55:42,150] Trial 23 finished with value: 0.415382517387154 and parameters: {'alpha': 0.00010154303555660517}. Best is trial 20 with value: 0.41551888722214647.\n",
      "[I 2025-01-17 11:55:42,165] Trial 24 finished with value: 0.4147006682121915 and parameters: {'alpha': 0.0009628057331164958}. Best is trial 20 with value: 0.41551888722214647.\n",
      "[I 2025-01-17 11:55:42,178] Trial 25 finished with value: 0.41415518887222147 and parameters: {'alpha': 0.003786252612200358}. Best is trial 20 with value: 0.41551888722214647.\n",
      "[I 2025-01-17 11:55:42,190] Trial 26 finished with value: 0.415382517387154 and parameters: {'alpha': 0.0002261195064728041}. Best is trial 20 with value: 0.41551888722214647.\n",
      "[I 2025-01-17 11:55:42,204] Trial 27 finished with value: 0.4133369698622665 and parameters: {'alpha': 0.009548113367521507}. Best is trial 20 with value: 0.41551888722214647.\n",
      "[I 2025-01-17 11:55:42,216] Trial 28 finished with value: 0.41551888722214647 and parameters: {'alpha': 0.0002842976312632024}. Best is trial 20 with value: 0.41551888722214647.\n",
      "[I 2025-01-17 11:55:42,229] Trial 29 finished with value: 0.4076094367925815 and parameters: {'alpha': 0.10511109816836356}. Best is trial 20 with value: 0.41551888722214647.\n",
      "2025/01/17 11:55:58 WARNING mlflow.models.model: Model logged without a signature and input example. Please set `input_example` parameter when logging the model to auto infer the model signature.\n"
     ]
    },
    {
     "name": "stdout",
     "output_type": "stream",
     "text": [
      "🏃 View run NaiveBayes_Adasyn_Tfidf_Bigram at: http://ec2-13-61-2-37.eu-north-1.compute.amazonaws.com:5000/#/experiments/870835495118995563/runs/b404a00440e14375bcacee3138c9af74\n",
      "🧪 View experiment at: http://ec2-13-61-2-37.eu-north-1.compute.amazonaws.com:5000/#/experiments/870835495118995563\n"
     ]
    }
   ],
   "source": [
    "optuna_run_experiment()"
   ]
  }
 ],
 "metadata": {
  "kernelspec": {
   "display_name": "myenv",
   "language": "python",
   "name": "python3"
  },
  "language_info": {
   "codemirror_mode": {
    "name": "ipython",
    "version": 3
   },
   "file_extension": ".py",
   "mimetype": "text/x-python",
   "name": "python",
   "nbconvert_exporter": "python",
   "pygments_lexer": "ipython3",
   "version": "3.13.0"
  }
 },
 "nbformat": 4,
 "nbformat_minor": 2
}
