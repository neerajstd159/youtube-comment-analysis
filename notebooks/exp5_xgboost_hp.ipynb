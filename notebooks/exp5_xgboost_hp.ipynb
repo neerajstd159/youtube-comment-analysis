{
 "cells": [
  {
   "cell_type": "code",
   "execution_count": 22,
   "metadata": {},
   "outputs": [],
   "source": [
    "import numpy as np\n",
    "import pandas as pd\n",
    "import mlflow"
   ]
  },
  {
   "cell_type": "code",
   "execution_count": 23,
   "metadata": {},
   "outputs": [
    {
     "name": "stderr",
     "output_type": "stream",
     "text": [
      "2025/01/22 17:00:24 INFO mlflow.tracking.fluent: Experiment with name 'exp 5 - ML Algos with HP Tuning' does not exist. Creating a new experiment.\n"
     ]
    },
    {
     "data": {
      "text/plain": [
       "<Experiment: artifact_location='s3://neeraj-first-bucket/615931187569087796', creation_time=1737545423333, experiment_id='615931187569087796', last_update_time=1737545423333, lifecycle_stage='active', name='exp 5 - ML Algos with HP Tuning', tags={}>"
      ]
     },
     "execution_count": 23,
     "metadata": {},
     "output_type": "execute_result"
    }
   ],
   "source": [
    "mlflow.set_tracking_uri('http://ec2-51-20-64-139.eu-north-1.compute.amazonaws.com:5000')\n",
    "mlflow.set_experiment('exp 5 - ML Algos with HP Tuning')"
   ]
  },
  {
   "cell_type": "code",
   "execution_count": 24,
   "metadata": {},
   "outputs": [
    {
     "name": "stdout",
     "output_type": "stream",
     "text": [
      "Requirement already satisfied: xgboost in c:\\data\\projects\\comment_analysis\\myenv\\lib\\site-packages (2.1.3)\n",
      "Requirement already satisfied: numpy in c:\\data\\projects\\comment_analysis\\myenv\\lib\\site-packages (from xgboost) (2.2.1)\n",
      "Requirement already satisfied: scipy in c:\\data\\projects\\comment_analysis\\myenv\\lib\\site-packages (from xgboost) (1.15.0)\n"
     ]
    },
    {
     "name": "stderr",
     "output_type": "stream",
     "text": [
      "\n",
      "[notice] A new release of pip is available: 24.2 -> 24.3.1\n",
      "[notice] To update, run: python.exe -m pip install --upgrade pip\n"
     ]
    }
   ],
   "source": [
    "!pip install xgboost"
   ]
  },
  {
   "cell_type": "code",
   "execution_count": 25,
   "metadata": {},
   "outputs": [
    {
     "name": "stdout",
     "output_type": "stream",
     "text": [
      "Requirement already satisfied: optuna in c:\\data\\projects\\comment_analysis\\myenv\\lib\\site-packages (4.1.0)\n",
      "Requirement already satisfied: alembic>=1.5.0 in c:\\data\\projects\\comment_analysis\\myenv\\lib\\site-packages (from optuna) (1.14.0)\n",
      "Requirement already satisfied: colorlog in c:\\data\\projects\\comment_analysis\\myenv\\lib\\site-packages (from optuna) (6.9.0)\n",
      "Requirement already satisfied: numpy in c:\\data\\projects\\comment_analysis\\myenv\\lib\\site-packages (from optuna) (2.2.1)\n",
      "Requirement already satisfied: packaging>=20.0 in c:\\data\\projects\\comment_analysis\\myenv\\lib\\site-packages (from optuna) (24.2)\n",
      "Requirement already satisfied: sqlalchemy>=1.4.2 in c:\\data\\projects\\comment_analysis\\myenv\\lib\\site-packages (from optuna) (2.0.36)\n",
      "Requirement already satisfied: tqdm in c:\\data\\projects\\comment_analysis\\myenv\\lib\\site-packages (from optuna) (4.67.1)\n",
      "Requirement already satisfied: PyYAML in c:\\data\\projects\\comment_analysis\\myenv\\lib\\site-packages (from optuna) (6.0.2)\n",
      "Requirement already satisfied: Mako in c:\\data\\projects\\comment_analysis\\myenv\\lib\\site-packages (from alembic>=1.5.0->optuna) (1.3.8)\n",
      "Requirement already satisfied: typing-extensions>=4 in c:\\data\\projects\\comment_analysis\\myenv\\lib\\site-packages (from alembic>=1.5.0->optuna) (4.12.2)\n",
      "Requirement already satisfied: colorama in c:\\data\\projects\\comment_analysis\\myenv\\lib\\site-packages (from colorlog->optuna) (0.4.6)\n",
      "Requirement already satisfied: MarkupSafe>=0.9.2 in c:\\data\\projects\\comment_analysis\\myenv\\lib\\site-packages (from Mako->alembic>=1.5.0->optuna) (3.0.2)\n"
     ]
    },
    {
     "name": "stderr",
     "output_type": "stream",
     "text": [
      "\n",
      "[notice] A new release of pip is available: 24.2 -> 24.3.1\n",
      "[notice] To update, run: python.exe -m pip install --upgrade pip\n"
     ]
    }
   ],
   "source": [
    "!pip install optuna"
   ]
  },
  {
   "cell_type": "code",
   "execution_count": 26,
   "metadata": {},
   "outputs": [],
   "source": [
    "from xgboost import XGBClassifier\n",
    "from sklearn.model_selection import train_test_split\n",
    "from sklearn.feature_extraction.text import TfidfVectorizer\n",
    "from sklearn.metrics import accuracy_score, classification_report\n",
    "from imblearn.over_sampling import ADASYN\n",
    "import matplotlib.pyplot as plt\n",
    "import seaborn as sns\n",
    "import optuna"
   ]
  },
  {
   "cell_type": "code",
   "execution_count": 27,
   "metadata": {},
   "outputs": [
    {
     "data": {
      "text/html": [
       "<div>\n",
       "<style scoped>\n",
       "    .dataframe tbody tr th:only-of-type {\n",
       "        vertical-align: middle;\n",
       "    }\n",
       "\n",
       "    .dataframe tbody tr th {\n",
       "        vertical-align: top;\n",
       "    }\n",
       "\n",
       "    .dataframe thead th {\n",
       "        text-align: right;\n",
       "    }\n",
       "</style>\n",
       "<table border=\"1\" class=\"dataframe\">\n",
       "  <thead>\n",
       "    <tr style=\"text-align: right;\">\n",
       "      <th></th>\n",
       "      <th>clean_comment</th>\n",
       "      <th>category</th>\n",
       "    </tr>\n",
       "  </thead>\n",
       "  <tbody>\n",
       "    <tr>\n",
       "      <th>0</th>\n",
       "      <td>family mormon never tried explain still stare ...</td>\n",
       "      <td>1</td>\n",
       "    </tr>\n",
       "    <tr>\n",
       "      <th>1</th>\n",
       "      <td>buddhism much lot compatible christianity espe...</td>\n",
       "      <td>1</td>\n",
       "    </tr>\n",
       "    <tr>\n",
       "      <th>2</th>\n",
       "      <td>seriously say thing first get complex explain ...</td>\n",
       "      <td>-1</td>\n",
       "    </tr>\n",
       "    <tr>\n",
       "      <th>3</th>\n",
       "      <td>learned want teach different focus goal not wr...</td>\n",
       "      <td>0</td>\n",
       "    </tr>\n",
       "    <tr>\n",
       "      <th>4</th>\n",
       "      <td>benefit may want read living buddha living chr...</td>\n",
       "      <td>1</td>\n",
       "    </tr>\n",
       "  </tbody>\n",
       "</table>\n",
       "</div>"
      ],
      "text/plain": [
       "                                       clean_comment  category\n",
       "0  family mormon never tried explain still stare ...         1\n",
       "1  buddhism much lot compatible christianity espe...         1\n",
       "2  seriously say thing first get complex explain ...        -1\n",
       "3  learned want teach different focus goal not wr...         0\n",
       "4  benefit may want read living buddha living chr...         1"
      ]
     },
     "execution_count": 27,
     "metadata": {},
     "output_type": "execute_result"
    }
   ],
   "source": [
    "df = pd.read_csv('dataset.csv')\n",
    "df.dropna(inplace=True)\n",
    "df.head()"
   ]
  },
  {
   "cell_type": "code",
   "execution_count": 28,
   "metadata": {},
   "outputs": [],
   "source": [
    "df['category'] = df['category'].map({-1:2, 0:0, 1:1})"
   ]
  },
  {
   "cell_type": "code",
   "execution_count": 29,
   "metadata": {},
   "outputs": [],
   "source": [
    "ngram_range = (1,2)\n",
    "max_features = 2000\n",
    "X_train, X_test, y_train, y_test = train_test_split(df['clean_comment'], df['category'], test_size=0.2)\n",
    "\n",
    "# vectorizer\n",
    "vectorizer = TfidfVectorizer(max_features=max_features, ngram_range=ngram_range)\n",
    "X_train_trf = vectorizer.fit_transform(X_train)\n",
    "X_test_trf = vectorizer.transform(X_test)\n",
    "\n",
    "# oversampling\n",
    "adasyn = ADASYN(random_state=42)\n",
    "X_train_trf, y_train = adasyn.fit_resample(X_train_trf, y_train)"
   ]
  },
  {
   "cell_type": "code",
   "execution_count": 30,
   "metadata": {},
   "outputs": [],
   "source": [
    "def log_mlflow(model_name, model, X_train, X_test, y_train, y_test):\n",
    "    if mlflow.active_run():\n",
    "        mlflow.end_run()\n",
    "        \n",
    "    with mlflow.start_run(nested=True):\n",
    "        mlflow.set_tag(\"mlflow.runName\", f\"{model_name}_Adasyn_Tfidf_Bigram\")\n",
    "        mlflow.set_tag(\"experiment_type\", \"algorithm_comparison\")\n",
    "\n",
    "        mlflow.log_param(\"algorithm\", model_name)\n",
    "\n",
    "        # model\n",
    "        model.fit(X_train, y_train)\n",
    "        y_pred = model.predict(X_test)\n",
    "\n",
    "        # metrics\n",
    "        accuracy = accuracy_score(y_test, y_pred)\n",
    "        class_report = classification_report(y_test, y_pred, output_dict=True)\n",
    "\n",
    "        mlflow.log_metric(\"accuracy\", accuracy)\n",
    "        for label, metrics in class_report.items():\n",
    "            if isinstance(metrics, dict):\n",
    "                for metric, value in metrics.items():\n",
    "                    mlflow.log_metric(f\"{label}_{metric}\", value)\n",
    "\n",
    "        mlflow.sklearn.log_model(model, f\"{model_name}_model\")"
   ]
  },
  {
   "cell_type": "code",
   "execution_count": 31,
   "metadata": {},
   "outputs": [],
   "source": [
    "# optuna objective function\n",
    "def objective_xgboost(trial):\n",
    "    n_estimators = trial.suggest_int(\"n_estimators\", 50, 300)\n",
    "    lr = trial.suggest_float(\"learning_rate\", 1e-4, 1e-1, log=True)\n",
    "    max_depth = trial.suggest_int(\"max_depth\", 3, 10)\n",
    "    model = XGBClassifier(n_estimators=n_estimators, learning_rate=lr, max_depth=max_depth, random_state=42)\n",
    "\n",
    "    return accuracy_score(y_test, model.fit(X_train_trf, y_train).predict(X_test_trf))\n",
    "\n",
    "# run optuna\n",
    "def run_optuna_xgboost():\n",
    "    study = optuna.create_study(direction='maximize')\n",
    "    study.optimize(objective_xgboost, n_trials=30)\n",
    "\n",
    "    # run the best parameters and log the best model\n",
    "    best_params = study.best_params\n",
    "    best_model = XGBClassifier(n_estimators=best_params['n_estimators'], learning_rate=best_params['learning_rate'], max_depth=best_params['max_depth'], random_state=42)\n",
    "\n",
    "    log_mlflow('XGBoost', best_model, X_train_trf, X_test_trf, y_train, y_test)\n",
    "    "
   ]
  },
  {
   "cell_type": "code",
   "execution_count": 32,
   "metadata": {},
   "outputs": [
    {
     "name": "stderr",
     "output_type": "stream",
     "text": [
      "[I 2025-01-22 17:01:08,066] A new study created in memory with name: no-name-1286c6c1-79b4-4cf9-a800-92b62ea268c7\n"
     ]
    },
    {
     "name": "stderr",
     "output_type": "stream",
     "text": [
      "[I 2025-01-22 17:23:12,794] Trial 0 finished with value: 0.6003000136369835 and parameters: {'n_estimators': 290, 'learning_rate': 0.0007667165027578911, 'max_depth': 9}. Best is trial 0 with value: 0.6003000136369835.\n",
      "[I 2025-01-22 17:46:01,487] Trial 1 finished with value: 0.6424382926496659 and parameters: {'n_estimators': 270, 'learning_rate': 0.00686957553489797, 'max_depth': 7}. Best is trial 1 with value: 0.6424382926496659.\n",
      "[I 2025-01-22 17:49:36,133] Trial 2 finished with value: 0.7586253920632756 and parameters: {'n_estimators': 99, 'learning_rate': 0.08798507377590256, 'max_depth': 9}. Best is trial 2 with value: 0.7586253920632756.\n",
      "[I 2025-01-22 18:05:58,060] Trial 3 finished with value: 0.5861175507977635 and parameters: {'n_estimators': 238, 'learning_rate': 0.0002459747126266874, 'max_depth': 8}. Best is trial 2 with value: 0.7586253920632756.\n",
      "[I 2025-01-22 18:17:13,806] Trial 4 finished with value: 0.8047183962907405 and parameters: {'n_estimators': 276, 'learning_rate': 0.07523087796140576, 'max_depth': 9}. Best is trial 4 with value: 0.8047183962907405.\n",
      "[I 2025-01-22 18:29:46,000] Trial 5 finished with value: 0.799127233056048 and parameters: {'n_estimators': 231, 'learning_rate': 0.08974073713204492, 'max_depth': 8}. Best is trial 4 with value: 0.8047183962907405.\n",
      "[I 2025-01-22 18:33:29,657] Trial 6 finished with value: 0.5956634392472385 and parameters: {'n_estimators': 160, 'learning_rate': 0.005917096349146014, 'max_depth': 5}. Best is trial 4 with value: 0.8047183962907405.\n",
      "[I 2025-01-22 18:47:18,663] Trial 7 finished with value: 0.7516705304786582 and parameters: {'n_estimators': 261, 'learning_rate': 0.03328203466776718, 'max_depth': 8}. Best is trial 4 with value: 0.8047183962907405.\n",
      "[I 2025-01-22 19:07:47,798] Trial 8 finished with value: 0.6810309559525433 and parameters: {'n_estimators': 240, 'learning_rate': 0.015971779725061107, 'max_depth': 7}. Best is trial 4 with value: 0.8047183962907405.\n",
      "[I 2025-01-22 19:11:20,845] Trial 9 finished with value: 0.7365334787944906 and parameters: {'n_estimators': 234, 'learning_rate': 0.026833838851642422, 'max_depth': 9}. Best is trial 4 with value: 0.8047183962907405.\n",
      "[I 2025-01-22 19:12:34,698] Trial 10 finished with value: 0.5307513977908087 and parameters: {'n_estimators': 172, 'learning_rate': 0.0014675433521464205, 'max_depth': 3}. Best is trial 4 with value: 0.8047183962907405.\n",
      "[I 2025-01-22 19:36:41,306] Trial 11 finished with value: 0.7948997681712805 and parameters: {'n_estimators': 200, 'learning_rate': 0.07538186310137866, 'max_depth': 10}. Best is trial 4 with value: 0.8047183962907405.\n",
      "[I 2025-01-22 21:05:39,478] Trial 12 finished with value: 0.8028092186008455 and parameters: {'n_estimators': 297, 'learning_rate': 0.09716109253734447, 'max_depth': 6}. Best is trial 4 with value: 0.8047183962907405.\n",
      "[I 2025-01-22 21:07:21,731] Trial 13 finished with value: 0.6698486294831584 and parameters: {'n_estimators': 292, 'learning_rate': 0.014508508375577375, 'max_depth': 5}. Best is trial 4 with value: 0.8047183962907405.\n",
      "[I 2025-01-22 21:08:03,381] Trial 14 finished with value: 0.6803491067775808 and parameters: {'n_estimators': 123, 'learning_rate': 0.04168316918547615, 'max_depth': 5}. Best is trial 4 with value: 0.8047183962907405.\n",
      "[I 2025-01-22 21:08:33,268] Trial 15 finished with value: 0.5540706395745261 and parameters: {'n_estimators': 59, 'learning_rate': 0.00012746531517567072, 'max_depth': 6}. Best is trial 4 with value: 0.8047183962907405.\n",
      "[I 2025-01-22 21:09:27,211] Trial 16 finished with value: 0.5689349515887085 and parameters: {'n_estimators': 298, 'learning_rate': 0.0026443743646226807, 'max_depth': 3}. Best is trial 4 with value: 0.8047183962907405.\n",
      "[I 2025-01-22 21:11:07,932] Trial 17 finished with value: 0.6423019228146734 and parameters: {'n_estimators': 206, 'learning_rate': 0.010648836634980324, 'max_depth': 6}. Best is trial 4 with value: 0.8047183962907405.\n",
      "[I 2025-01-22 21:15:09,277] Trial 18 finished with value: 0.774307923087413 and parameters: {'n_estimators': 267, 'learning_rate': 0.04044135870267157, 'max_depth': 10}. Best is trial 4 with value: 0.8047183962907405.\n",
      "[I 2025-01-22 21:15:45,529] Trial 19 finished with value: 0.5304786581208236 and parameters: {'n_estimators': 149, 'learning_rate': 0.0006108778965187646, 'max_depth': 4}. Best is trial 4 with value: 0.8047183962907405.\n",
      "[I 2025-01-22 21:24:12,439] Trial 20 finished with value: 0.5975726169371335 and parameters: {'n_estimators': 198, 'learning_rate': 0.003355117407033409, 'max_depth': 7}. Best is trial 4 with value: 0.8047183962907405.\n",
      "[I 2025-01-22 21:30:51,292] Trial 21 finished with value: 0.795581617346243 and parameters: {'n_estimators': 256, 'learning_rate': 0.07472688754125645, 'max_depth': 8}. Best is trial 4 with value: 0.8047183962907405.\n",
      "[I 2025-01-22 21:37:20,247] Trial 22 finished with value: 0.7924451111414155 and parameters: {'n_estimators': 225, 'learning_rate': 0.08445885927512213, 'max_depth': 8}. Best is trial 4 with value: 0.8047183962907405.\n",
      "[I 2025-01-23 10:03:07,654] Trial 23 finished with value: 0.7342151915996181 and parameters: {'n_estimators': 275, 'learning_rate': 0.022131729024681922, 'max_depth': 9}. Best is trial 4 with value: 0.8047183962907405.\n",
      "[I 2025-01-23 10:28:14,955] Trial 24 finished with value: 0.7703531978726306 and parameters: {'n_estimators': 300, 'learning_rate': 0.051408669408052145, 'max_depth': 6}. Best is trial 4 with value: 0.8047183962907405.\n",
      "[I 2025-01-23 10:36:00,818] Trial 25 finished with value: 0.784399290876858 and parameters: {'n_estimators': 217, 'learning_rate': 0.05959527397416504, 'max_depth': 10}. Best is trial 4 with value: 0.8047183962907405.\n",
      "[I 2025-01-23 10:42:13,230] Trial 26 finished with value: 0.800763671075958 and parameters: {'n_estimators': 252, 'learning_rate': 0.09805870039858647, 'max_depth': 7}. Best is trial 4 with value: 0.8047183962907405.\n",
      "[I 2025-01-23 10:46:14,584] Trial 27 finished with value: 0.6808945861175508 and parameters: {'n_estimators': 279, 'learning_rate': 0.023698341490821773, 'max_depth': 4}. Best is trial 4 with value: 0.8047183962907405.\n",
      "[I 2025-01-23 10:52:48,807] Trial 28 finished with value: 0.7593072412382381 and parameters: {'n_estimators': 245, 'learning_rate': 0.04574076723641391, 'max_depth': 7}. Best is trial 4 with value: 0.8047183962907405.\n",
      "[I 2025-01-23 11:02:13,303] Trial 29 finished with value: 0.6525296604391109 and parameters: {'n_estimators': 284, 'learning_rate': 0.009511704055806454, 'max_depth': 6}. Best is trial 4 with value: 0.8047183962907405.\n"
     ]
    },
    {
     "ename": "RestException",
     "evalue": "INVALID_PARAMETER_VALUE: The run 2db9457a89ba476db50b8e8040e82dec must be in 'active' lifecycle_stage.",
     "output_type": "error",
     "traceback": [
      "\u001b[1;31m---------------------------------------------------------------------------\u001b[0m",
      "\u001b[1;31mRestException\u001b[0m                             Traceback (most recent call last)",
      "Cell \u001b[1;32mIn[32], line 1\u001b[0m\n\u001b[1;32m----> 1\u001b[0m \u001b[43mrun_optuna_xgboost\u001b[49m\u001b[43m(\u001b[49m\u001b[43m)\u001b[49m\n",
      "Cell \u001b[1;32mIn[31], line 19\u001b[0m, in \u001b[0;36mrun_optuna_xgboost\u001b[1;34m()\u001b[0m\n\u001b[0;32m     16\u001b[0m best_params \u001b[38;5;241m=\u001b[39m study\u001b[38;5;241m.\u001b[39mbest_params\n\u001b[0;32m     17\u001b[0m best_model \u001b[38;5;241m=\u001b[39m XGBClassifier(n_estimators\u001b[38;5;241m=\u001b[39mbest_params[\u001b[38;5;124m'\u001b[39m\u001b[38;5;124mn_estimators\u001b[39m\u001b[38;5;124m'\u001b[39m], learning_rate\u001b[38;5;241m=\u001b[39mbest_params[\u001b[38;5;124m'\u001b[39m\u001b[38;5;124mlearning_rate\u001b[39m\u001b[38;5;124m'\u001b[39m], max_depth\u001b[38;5;241m=\u001b[39mbest_params[\u001b[38;5;124m'\u001b[39m\u001b[38;5;124mmax_depth\u001b[39m\u001b[38;5;124m'\u001b[39m], random_state\u001b[38;5;241m=\u001b[39m\u001b[38;5;241m42\u001b[39m)\n\u001b[1;32m---> 19\u001b[0m \u001b[43mlog_mlflow\u001b[49m\u001b[43m(\u001b[49m\u001b[38;5;124;43m'\u001b[39;49m\u001b[38;5;124;43mXGBoost\u001b[39;49m\u001b[38;5;124;43m'\u001b[39;49m\u001b[43m,\u001b[49m\u001b[43m \u001b[49m\u001b[43mbest_model\u001b[49m\u001b[43m,\u001b[49m\u001b[43m \u001b[49m\u001b[43mX_train_trf\u001b[49m\u001b[43m,\u001b[49m\u001b[43m \u001b[49m\u001b[43mX_test_trf\u001b[49m\u001b[43m,\u001b[49m\u001b[43m \u001b[49m\u001b[43my_train\u001b[49m\u001b[43m,\u001b[49m\u001b[43m \u001b[49m\u001b[43my_test\u001b[49m\u001b[43m)\u001b[49m\n",
      "Cell \u001b[1;32mIn[30], line 2\u001b[0m, in \u001b[0;36mlog_mlflow\u001b[1;34m(model_name, model, X_train, X_test, y_train, y_test)\u001b[0m\n\u001b[0;32m      1\u001b[0m \u001b[38;5;28;01mdef\u001b[39;00m \u001b[38;5;21mlog_mlflow\u001b[39m(model_name, model, X_train, X_test, y_train, y_test):\n\u001b[1;32m----> 2\u001b[0m     \u001b[43mmlflow\u001b[49m\u001b[38;5;241;43m.\u001b[39;49m\u001b[43mset_tag\u001b[49m\u001b[43m(\u001b[49m\u001b[38;5;124;43m\"\u001b[39;49m\u001b[38;5;124;43mmlflow.runName\u001b[39;49m\u001b[38;5;124;43m\"\u001b[39;49m\u001b[43m,\u001b[49m\u001b[43m \u001b[49m\u001b[38;5;124;43mf\u001b[39;49m\u001b[38;5;124;43m\"\u001b[39;49m\u001b[38;5;132;43;01m{\u001b[39;49;00m\u001b[43mmodel_name\u001b[49m\u001b[38;5;132;43;01m}\u001b[39;49;00m\u001b[38;5;124;43m_Adasyn_Tfidf_Bigram\u001b[39;49m\u001b[38;5;124;43m\"\u001b[39;49m\u001b[43m)\u001b[49m\n\u001b[0;32m      3\u001b[0m     mlflow\u001b[38;5;241m.\u001b[39mset_tag(\u001b[38;5;124m\"\u001b[39m\u001b[38;5;124mexperiment_type\u001b[39m\u001b[38;5;124m\"\u001b[39m, \u001b[38;5;124m\"\u001b[39m\u001b[38;5;124malgorithm_comparison\u001b[39m\u001b[38;5;124m\"\u001b[39m)\n\u001b[0;32m      5\u001b[0m     mlflow\u001b[38;5;241m.\u001b[39mlog_param(\u001b[38;5;124m\"\u001b[39m\u001b[38;5;124malgorithm\u001b[39m\u001b[38;5;124m\"\u001b[39m, model_name)\n",
      "File \u001b[1;32mc:\\data\\projects\\comment_analysis\\myenv\\Lib\\site-packages\\mlflow\\tracking\\fluent.py:842\u001b[0m, in \u001b[0;36mset_tag\u001b[1;34m(key, value, synchronous)\u001b[0m\n\u001b[0;32m    840\u001b[0m run_id \u001b[38;5;241m=\u001b[39m _get_or_start_run()\u001b[38;5;241m.\u001b[39minfo\u001b[38;5;241m.\u001b[39mrun_id\n\u001b[0;32m    841\u001b[0m synchronous \u001b[38;5;241m=\u001b[39m synchronous \u001b[38;5;28;01mif\u001b[39;00m synchronous \u001b[38;5;129;01mis\u001b[39;00m \u001b[38;5;129;01mnot\u001b[39;00m \u001b[38;5;28;01mNone\u001b[39;00m \u001b[38;5;28;01melse\u001b[39;00m \u001b[38;5;129;01mnot\u001b[39;00m MLFLOW_ENABLE_ASYNC_LOGGING\u001b[38;5;241m.\u001b[39mget()\n\u001b[1;32m--> 842\u001b[0m \u001b[38;5;28;01mreturn\u001b[39;00m \u001b[43mMlflowClient\u001b[49m\u001b[43m(\u001b[49m\u001b[43m)\u001b[49m\u001b[38;5;241;43m.\u001b[39;49m\u001b[43mset_tag\u001b[49m\u001b[43m(\u001b[49m\u001b[43mrun_id\u001b[49m\u001b[43m,\u001b[49m\u001b[43m \u001b[49m\u001b[43mkey\u001b[49m\u001b[43m,\u001b[49m\u001b[43m \u001b[49m\u001b[43mvalue\u001b[49m\u001b[43m,\u001b[49m\u001b[43m \u001b[49m\u001b[43msynchronous\u001b[49m\u001b[38;5;241;43m=\u001b[39;49m\u001b[43msynchronous\u001b[49m\u001b[43m)\u001b[49m\n",
      "File \u001b[1;32mc:\\data\\projects\\comment_analysis\\myenv\\Lib\\site-packages\\mlflow\\tracking\\client.py:1692\u001b[0m, in \u001b[0;36mMlflowClient.set_tag\u001b[1;34m(self, run_id, key, value, synchronous)\u001b[0m\n\u001b[0;32m   1638\u001b[0m \u001b[38;5;250m\u001b[39m\u001b[38;5;124;03m\"\"\"\u001b[39;00m\n\u001b[0;32m   1639\u001b[0m \u001b[38;5;124;03mSet a tag on the run with the specified ID. Value is converted to a string.\u001b[39;00m\n\u001b[0;32m   1640\u001b[0m \n\u001b[1;32m   (...)\u001b[0m\n\u001b[0;32m   1687\u001b[0m \u001b[38;5;124;03m    Tags: {'nlp.framework': 'Spark NLP'}\u001b[39;00m\n\u001b[0;32m   1688\u001b[0m \u001b[38;5;124;03m\"\"\"\u001b[39;00m\n\u001b[0;32m   1689\u001b[0m synchronous \u001b[38;5;241m=\u001b[39m (\n\u001b[0;32m   1690\u001b[0m     synchronous \u001b[38;5;28;01mif\u001b[39;00m synchronous \u001b[38;5;129;01mis\u001b[39;00m \u001b[38;5;129;01mnot\u001b[39;00m \u001b[38;5;28;01mNone\u001b[39;00m \u001b[38;5;28;01melse\u001b[39;00m \u001b[38;5;129;01mnot\u001b[39;00m MLFLOW_ENABLE_ASYNC_LOGGING\u001b[38;5;241m.\u001b[39mget()\n\u001b[0;32m   1691\u001b[0m )\n\u001b[1;32m-> 1692\u001b[0m \u001b[38;5;28;01mreturn\u001b[39;00m \u001b[38;5;28;43mself\u001b[39;49m\u001b[38;5;241;43m.\u001b[39;49m\u001b[43m_tracking_client\u001b[49m\u001b[38;5;241;43m.\u001b[39;49m\u001b[43mset_tag\u001b[49m\u001b[43m(\u001b[49m\u001b[43mrun_id\u001b[49m\u001b[43m,\u001b[49m\u001b[43m \u001b[49m\u001b[43mkey\u001b[49m\u001b[43m,\u001b[49m\u001b[43m \u001b[49m\u001b[43mvalue\u001b[49m\u001b[43m,\u001b[49m\u001b[43m \u001b[49m\u001b[43msynchronous\u001b[49m\u001b[38;5;241;43m=\u001b[39;49m\u001b[43msynchronous\u001b[49m\u001b[43m)\u001b[49m\n",
      "File \u001b[1;32mc:\\data\\projects\\comment_analysis\\myenv\\Lib\\site-packages\\mlflow\\tracking\\_tracking_service\\client.py:654\u001b[0m, in \u001b[0;36mTrackingServiceClient.set_tag\u001b[1;34m(self, run_id, key, value, synchronous)\u001b[0m\n\u001b[0;32m    652\u001b[0m tag \u001b[38;5;241m=\u001b[39m RunTag(key, \u001b[38;5;28mstr\u001b[39m(value))\n\u001b[0;32m    653\u001b[0m \u001b[38;5;28;01mif\u001b[39;00m synchronous:\n\u001b[1;32m--> 654\u001b[0m     \u001b[38;5;28;43mself\u001b[39;49m\u001b[38;5;241;43m.\u001b[39;49m\u001b[43mstore\u001b[49m\u001b[38;5;241;43m.\u001b[39;49m\u001b[43mset_tag\u001b[49m\u001b[43m(\u001b[49m\u001b[43mrun_id\u001b[49m\u001b[43m,\u001b[49m\u001b[43m \u001b[49m\u001b[43mtag\u001b[49m\u001b[43m)\u001b[49m\n\u001b[0;32m    655\u001b[0m \u001b[38;5;28;01melse\u001b[39;00m:\n\u001b[0;32m    656\u001b[0m     \u001b[38;5;28;01mreturn\u001b[39;00m \u001b[38;5;28mself\u001b[39m\u001b[38;5;241m.\u001b[39mstore\u001b[38;5;241m.\u001b[39mset_tag_async(run_id, tag)\n",
      "File \u001b[1;32mc:\\data\\projects\\comment_analysis\\myenv\\Lib\\site-packages\\mlflow\\store\\tracking\\rest_store.py:446\u001b[0m, in \u001b[0;36mRestStore.set_tag\u001b[1;34m(self, run_id, tag)\u001b[0m\n\u001b[0;32m    436\u001b[0m \u001b[38;5;250m\u001b[39m\u001b[38;5;124;03m\"\"\"\u001b[39;00m\n\u001b[0;32m    437\u001b[0m \u001b[38;5;124;03mSet a tag for the specified run\u001b[39;00m\n\u001b[0;32m    438\u001b[0m \n\u001b[1;32m   (...)\u001b[0m\n\u001b[0;32m    441\u001b[0m \u001b[38;5;124;03m    tag: RunTag instance to log\u001b[39;00m\n\u001b[0;32m    442\u001b[0m \u001b[38;5;124;03m\"\"\"\u001b[39;00m\n\u001b[0;32m    443\u001b[0m req_body \u001b[38;5;241m=\u001b[39m message_to_json(\n\u001b[0;32m    444\u001b[0m     SetTag(run_uuid\u001b[38;5;241m=\u001b[39mrun_id, run_id\u001b[38;5;241m=\u001b[39mrun_id, key\u001b[38;5;241m=\u001b[39mtag\u001b[38;5;241m.\u001b[39mkey, value\u001b[38;5;241m=\u001b[39mtag\u001b[38;5;241m.\u001b[39mvalue)\n\u001b[0;32m    445\u001b[0m )\n\u001b[1;32m--> 446\u001b[0m \u001b[38;5;28;43mself\u001b[39;49m\u001b[38;5;241;43m.\u001b[39;49m\u001b[43m_call_endpoint\u001b[49m\u001b[43m(\u001b[49m\u001b[43mSetTag\u001b[49m\u001b[43m,\u001b[49m\u001b[43m \u001b[49m\u001b[43mreq_body\u001b[49m\u001b[43m)\u001b[49m\n",
      "File \u001b[1;32mc:\\data\\projects\\comment_analysis\\myenv\\Lib\\site-packages\\mlflow\\store\\tracking\\rest_store.py:82\u001b[0m, in \u001b[0;36mRestStore._call_endpoint\u001b[1;34m(self, api, json_body, endpoint)\u001b[0m\n\u001b[0;32m     80\u001b[0m     endpoint, method \u001b[38;5;241m=\u001b[39m _METHOD_TO_INFO[api]\n\u001b[0;32m     81\u001b[0m response_proto \u001b[38;5;241m=\u001b[39m api\u001b[38;5;241m.\u001b[39mResponse()\n\u001b[1;32m---> 82\u001b[0m \u001b[38;5;28;01mreturn\u001b[39;00m \u001b[43mcall_endpoint\u001b[49m\u001b[43m(\u001b[49m\u001b[38;5;28;43mself\u001b[39;49m\u001b[38;5;241;43m.\u001b[39;49m\u001b[43mget_host_creds\u001b[49m\u001b[43m(\u001b[49m\u001b[43m)\u001b[49m\u001b[43m,\u001b[49m\u001b[43m \u001b[49m\u001b[43mendpoint\u001b[49m\u001b[43m,\u001b[49m\u001b[43m \u001b[49m\u001b[43mmethod\u001b[49m\u001b[43m,\u001b[49m\u001b[43m \u001b[49m\u001b[43mjson_body\u001b[49m\u001b[43m,\u001b[49m\u001b[43m \u001b[49m\u001b[43mresponse_proto\u001b[49m\u001b[43m)\u001b[49m\n",
      "File \u001b[1;32mc:\\data\\projects\\comment_analysis\\myenv\\Lib\\site-packages\\mlflow\\utils\\rest_utils.py:370\u001b[0m, in \u001b[0;36mcall_endpoint\u001b[1;34m(host_creds, endpoint, method, json_body, response_proto, extra_headers)\u001b[0m\n\u001b[0;32m    367\u001b[0m     call_kwargs[\u001b[38;5;124m\"\u001b[39m\u001b[38;5;124mjson\u001b[39m\u001b[38;5;124m\"\u001b[39m] \u001b[38;5;241m=\u001b[39m json_body\n\u001b[0;32m    368\u001b[0m     response \u001b[38;5;241m=\u001b[39m http_request(\u001b[38;5;241m*\u001b[39m\u001b[38;5;241m*\u001b[39mcall_kwargs)\n\u001b[1;32m--> 370\u001b[0m response \u001b[38;5;241m=\u001b[39m \u001b[43mverify_rest_response\u001b[49m\u001b[43m(\u001b[49m\u001b[43mresponse\u001b[49m\u001b[43m,\u001b[49m\u001b[43m \u001b[49m\u001b[43mendpoint\u001b[49m\u001b[43m)\u001b[49m\n\u001b[0;32m    371\u001b[0m response_to_parse \u001b[38;5;241m=\u001b[39m response\u001b[38;5;241m.\u001b[39mtext\n\u001b[0;32m    372\u001b[0m js_dict \u001b[38;5;241m=\u001b[39m json\u001b[38;5;241m.\u001b[39mloads(response_to_parse)\n",
      "File \u001b[1;32mc:\\data\\projects\\comment_analysis\\myenv\\Lib\\site-packages\\mlflow\\utils\\rest_utils.py:240\u001b[0m, in \u001b[0;36mverify_rest_response\u001b[1;34m(response, endpoint)\u001b[0m\n\u001b[0;32m    238\u001b[0m \u001b[38;5;28;01mif\u001b[39;00m response\u001b[38;5;241m.\u001b[39mstatus_code \u001b[38;5;241m!=\u001b[39m \u001b[38;5;241m200\u001b[39m:\n\u001b[0;32m    239\u001b[0m     \u001b[38;5;28;01mif\u001b[39;00m _can_parse_as_json_object(response\u001b[38;5;241m.\u001b[39mtext):\n\u001b[1;32m--> 240\u001b[0m         \u001b[38;5;28;01mraise\u001b[39;00m RestException(json\u001b[38;5;241m.\u001b[39mloads(response\u001b[38;5;241m.\u001b[39mtext))\n\u001b[0;32m    241\u001b[0m     \u001b[38;5;28;01melse\u001b[39;00m:\n\u001b[0;32m    242\u001b[0m         base_msg \u001b[38;5;241m=\u001b[39m (\n\u001b[0;32m    243\u001b[0m             \u001b[38;5;124mf\u001b[39m\u001b[38;5;124m\"\u001b[39m\u001b[38;5;124mAPI request to endpoint \u001b[39m\u001b[38;5;132;01m{\u001b[39;00mendpoint\u001b[38;5;132;01m}\u001b[39;00m\u001b[38;5;124m \u001b[39m\u001b[38;5;124m\"\u001b[39m\n\u001b[0;32m    244\u001b[0m             \u001b[38;5;124mf\u001b[39m\u001b[38;5;124m\"\u001b[39m\u001b[38;5;124mfailed with error code \u001b[39m\u001b[38;5;132;01m{\u001b[39;00mresponse\u001b[38;5;241m.\u001b[39mstatus_code\u001b[38;5;132;01m}\u001b[39;00m\u001b[38;5;124m != 200\u001b[39m\u001b[38;5;124m\"\u001b[39m\n\u001b[0;32m    245\u001b[0m         )\n",
      "\u001b[1;31mRestException\u001b[0m: INVALID_PARAMETER_VALUE: The run 2db9457a89ba476db50b8e8040e82dec must be in 'active' lifecycle_stage."
     ]
    }
   ],
   "source": [
    "run_optuna_xgboost()"
   ]
  }
 ],
 "metadata": {
  "kernelspec": {
   "display_name": "myenv",
   "language": "python",
   "name": "python3"
  },
  "language_info": {
   "codemirror_mode": {
    "name": "ipython",
    "version": 3
   },
   "file_extension": ".py",
   "mimetype": "text/x-python",
   "name": "python",
   "nbconvert_exporter": "python",
   "pygments_lexer": "ipython3",
   "version": "3.13.0"
  }
 },
 "nbformat": 4,
 "nbformat_minor": 2
}
