{
 "cells": [
  {
   "cell_type": "code",
   "execution_count": 28,
   "metadata": {},
   "outputs": [],
   "source": [
    "import numpy as np\n",
    "import pandas as pd\n",
    "import mlflow"
   ]
  },
  {
   "cell_type": "code",
   "execution_count": 29,
   "metadata": {},
   "outputs": [
    {
     "data": {
      "text/plain": [
       "<Experiment: artifact_location='s3://neeraj-first-bucket/870835495118995563', creation_time=1736945300249, experiment_id='870835495118995563', last_update_time=1736945300249, lifecycle_stage='active', name='Exp 5 - ML Algos with HP Tuning', tags={}>"
      ]
     },
     "execution_count": 29,
     "metadata": {},
     "output_type": "execute_result"
    }
   ],
   "source": [
    "mlflow.set_tracking_uri('http://ec2-13-61-2-37.eu-north-1.compute.amazonaws.com:5000')\n",
    "mlflow.set_experiment('Exp 5 - ML Algos with HP Tuning')"
   ]
  },
  {
   "cell_type": "code",
   "execution_count": 30,
   "metadata": {},
   "outputs": [],
   "source": [
    "from sklearn.neighbors import KNeighborsClassifier\n",
    "from sklearn.feature_extraction.text import TfidfVectorizer\n",
    "from sklearn.model_selection import train_test_split\n",
    "from sklearn.metrics import accuracy_score, classification_report\n",
    "from imblearn.over_sampling import ADASYN\n",
    "import optuna"
   ]
  },
  {
   "cell_type": "code",
   "execution_count": 31,
   "metadata": {},
   "outputs": [
    {
     "data": {
      "text/html": [
       "<div>\n",
       "<style scoped>\n",
       "    .dataframe tbody tr th:only-of-type {\n",
       "        vertical-align: middle;\n",
       "    }\n",
       "\n",
       "    .dataframe tbody tr th {\n",
       "        vertical-align: top;\n",
       "    }\n",
       "\n",
       "    .dataframe thead th {\n",
       "        text-align: right;\n",
       "    }\n",
       "</style>\n",
       "<table border=\"1\" class=\"dataframe\">\n",
       "  <thead>\n",
       "    <tr style=\"text-align: right;\">\n",
       "      <th></th>\n",
       "      <th>clean_comment</th>\n",
       "      <th>category</th>\n",
       "    </tr>\n",
       "  </thead>\n",
       "  <tbody>\n",
       "    <tr>\n",
       "      <th>0</th>\n",
       "      <td>family mormon never tried explain still stare ...</td>\n",
       "      <td>1</td>\n",
       "    </tr>\n",
       "    <tr>\n",
       "      <th>1</th>\n",
       "      <td>buddhism much lot compatible christianity espe...</td>\n",
       "      <td>1</td>\n",
       "    </tr>\n",
       "    <tr>\n",
       "      <th>2</th>\n",
       "      <td>seriously say thing first get complex explain ...</td>\n",
       "      <td>-1</td>\n",
       "    </tr>\n",
       "    <tr>\n",
       "      <th>3</th>\n",
       "      <td>learned want teach different focus goal not wr...</td>\n",
       "      <td>0</td>\n",
       "    </tr>\n",
       "    <tr>\n",
       "      <th>4</th>\n",
       "      <td>benefit may want read living buddha living chr...</td>\n",
       "      <td>1</td>\n",
       "    </tr>\n",
       "  </tbody>\n",
       "</table>\n",
       "</div>"
      ],
      "text/plain": [
       "                                       clean_comment  category\n",
       "0  family mormon never tried explain still stare ...         1\n",
       "1  buddhism much lot compatible christianity espe...         1\n",
       "2  seriously say thing first get complex explain ...        -1\n",
       "3  learned want teach different focus goal not wr...         0\n",
       "4  benefit may want read living buddha living chr...         1"
      ]
     },
     "execution_count": 31,
     "metadata": {},
     "output_type": "execute_result"
    }
   ],
   "source": [
    "df = pd.read_csv('dataset.csv')\n",
    "df.dropna(inplace=True)\n",
    "df.head()"
   ]
  },
  {
   "cell_type": "code",
   "execution_count": 32,
   "metadata": {},
   "outputs": [],
   "source": [
    "X_train, X_test, y_train, y_test = train_test_split(df['clean_comment'], df['category'], test_size=0.2)\n",
    "\n",
    "# vectorizer\n",
    "ngram_range = (1,2)\n",
    "max_features = 2000\n",
    "vectorizer = TfidfVectorizer(max_features=max_features, ngram_range=ngram_range)\n",
    "X_train_trf = vectorizer.fit_transform(X_train)\n",
    "X_test_trf = vectorizer.fit_transform(X_test)\n",
    "\n",
    "# oversampling\n",
    "adasyn = ADASYN(random_state=42)\n",
    "X_train_trf, y_train = adasyn.fit_resample(X_train_trf, y_train)\n"
   ]
  },
  {
   "cell_type": "code",
   "execution_count": 33,
   "metadata": {},
   "outputs": [],
   "source": [
    "def log_mlflow(model_name, model, X_train, y_train, X_test, y_test):\n",
    "    with mlflow.start_run():\n",
    "        mlflow.set_tag(\"mlflow.runName\", f\"{model_name}_Adasyn_Tfidf_Bigram\")\n",
    "        mlflow.set_tag(\"experiment_type\", \"algorithm_comparison\")\n",
    "        mlflow.log_param(\"algorithm\", model_name)\n",
    "\n",
    "        # model\n",
    "        model.fit(X_train, y_train)\n",
    "        y_pred = model.predict(X_test)\n",
    "\n",
    "        # metrics\n",
    "        accuracy = accuracy_score(y_test, y_pred)\n",
    "        class_report = classification_report(y_test, y_pred, output_dict=True)\n",
    "\n",
    "        mlflow.log_metric(\"accoracy\", accuracy)\n",
    "        for label, metrics in class_report.items():\n",
    "            if isinstance(metrics, dict):\n",
    "                for metric, value in metrics.items():\n",
    "                    mlflow.log_metric(f\"{label}_{metric}\", value)\n",
    "\n",
    "        mlflow.sklearn.log_model(model, f\"{model_name}_model\")"
   ]
  },
  {
   "cell_type": "code",
   "execution_count": 34,
   "metadata": {},
   "outputs": [],
   "source": [
    "def objective_knn(trial):\n",
    "    n_neighbors = trial.suggest_int('n_neighbors', 3, 30)\n",
    "    p = trial.suggest_categorical('p', [1, 2])\n",
    "\n",
    "    model = KNeighborsClassifier(n_neighbors=n_neighbors, p=p)\n",
    "    return accuracy_score(y_test, model.fit(X_train_trf, y_train).predict(X_test_trf))"
   ]
  },
  {
   "cell_type": "code",
   "execution_count": 35,
   "metadata": {},
   "outputs": [],
   "source": [
    "def optuna_run_experiment():\n",
    "    study = optuna.create_study(direction='maximize')\n",
    "    study.optimize(objective_knn, n_trials=30)\n",
    "\n",
    "    best_params = study.best_params\n",
    "    best_model = KNeighborsClassifier(n_neighbors=best_params['n_neighbors'], p=best_params['p'])\n",
    "    \n",
    "    log_mlflow(\"KNN\", best_model, X_train_trf, y_train, X_test_trf, y_test)"
   ]
  },
  {
   "cell_type": "code",
   "execution_count": 36,
   "metadata": {},
   "outputs": [
    {
     "name": "stderr",
     "output_type": "stream",
     "text": [
      "[I 2025-01-17 11:51:27,573] A new study created in memory with name: no-name-b4d86cd4-9f60-4943-abd1-5e977ea0491f\n",
      "[I 2025-01-17 11:51:31,066] Trial 0 finished with value: 0.34651575071594165 and parameters: {'n_neighbours': 17, 'p': 1}. Best is trial 0 with value: 0.34651575071594165.\n",
      "[I 2025-01-17 11:51:35,772] Trial 1 finished with value: 0.3426973953361516 and parameters: {'n_neighbours': 3, 'p': 2}. Best is trial 0 with value: 0.34651575071594165.\n",
      "[I 2025-01-17 11:51:40,934] Trial 2 finished with value: 0.3211509614073367 and parameters: {'n_neighbours': 27, 'p': 2}. Best is trial 0 with value: 0.34651575071594165.\n",
      "[I 2025-01-17 11:51:45,050] Trial 3 finished with value: 0.34597027137597164 and parameters: {'n_neighbours': 13, 'p': 1}. Best is trial 0 with value: 0.34651575071594165.\n",
      "[I 2025-01-17 11:51:51,339] Trial 4 finished with value: 0.31555979817264423 and parameters: {'n_neighbours': 21, 'p': 2}. Best is trial 0 with value: 0.34651575071594165.\n",
      "[I 2025-01-17 11:51:57,650] Trial 5 finished with value: 0.3300150006818492 and parameters: {'n_neighbours': 9, 'p': 2}. Best is trial 0 with value: 0.34651575071594165.\n",
      "[I 2025-01-17 11:52:01,413] Trial 6 finished with value: 0.3420155461611891 and parameters: {'n_neighbours': 9, 'p': 1}. Best is trial 0 with value: 0.34651575071594165.\n",
      "[I 2025-01-17 11:52:05,484] Trial 7 finished with value: 0.34651575071594165 and parameters: {'n_neighbours': 21, 'p': 1}. Best is trial 0 with value: 0.34651575071594165.\n",
      "[I 2025-01-17 11:52:09,459] Trial 8 finished with value: 0.3154234283376517 and parameters: {'n_neighbours': 24, 'p': 2}. Best is trial 0 with value: 0.34651575071594165.\n",
      "[I 2025-01-17 11:52:12,215] Trial 9 finished with value: 0.3461066412109641 and parameters: {'n_neighbours': 14, 'p': 1}. Best is trial 0 with value: 0.34651575071594165.\n",
      "[I 2025-01-17 11:52:15,310] Trial 10 finished with value: 0.34678849038592663 and parameters: {'n_neighbours': 29, 'p': 1}. Best is trial 10 with value: 0.34678849038592663.\n",
      "[I 2025-01-17 11:52:18,498] Trial 11 finished with value: 0.34678849038592663 and parameters: {'n_neighbours': 30, 'p': 1}. Best is trial 10 with value: 0.34678849038592663.\n",
      "[I 2025-01-17 11:52:21,909] Trial 12 finished with value: 0.34678849038592663 and parameters: {'n_neighbours': 30, 'p': 1}. Best is trial 10 with value: 0.34678849038592663.\n",
      "[I 2025-01-17 11:52:25,103] Trial 13 finished with value: 0.34678849038592663 and parameters: {'n_neighbours': 30, 'p': 1}. Best is trial 10 with value: 0.34678849038592663.\n",
      "[I 2025-01-17 11:52:28,099] Trial 14 finished with value: 0.34678849038592663 and parameters: {'n_neighbours': 25, 'p': 1}. Best is trial 10 with value: 0.34678849038592663.\n",
      "[I 2025-01-17 11:52:31,091] Trial 15 finished with value: 0.34678849038592663 and parameters: {'n_neighbours': 28, 'p': 1}. Best is trial 10 with value: 0.34678849038592663.\n",
      "[I 2025-01-17 11:52:34,071] Trial 16 finished with value: 0.3470612300559116 and parameters: {'n_neighbours': 22, 'p': 1}. Best is trial 16 with value: 0.3470612300559116.\n",
      "[I 2025-01-17 11:52:37,077] Trial 17 finished with value: 0.34651575071594165 and parameters: {'n_neighbours': 21, 'p': 1}. Best is trial 16 with value: 0.3470612300559116.\n",
      "[I 2025-01-17 11:52:40,191] Trial 18 finished with value: 0.3469248602209191 and parameters: {'n_neighbours': 24, 'p': 1}. Best is trial 16 with value: 0.3470612300559116.\n",
      "[I 2025-01-17 11:52:43,152] Trial 19 finished with value: 0.3469248602209191 and parameters: {'n_neighbours': 24, 'p': 1}. Best is trial 16 with value: 0.3470612300559116.\n",
      "[I 2025-01-17 11:52:46,449] Trial 20 finished with value: 0.34651575071594165 and parameters: {'n_neighbours': 17, 'p': 1}. Best is trial 16 with value: 0.3470612300559116.\n",
      "[I 2025-01-17 11:52:49,613] Trial 21 finished with value: 0.3469248602209191 and parameters: {'n_neighbours': 24, 'p': 1}. Best is trial 16 with value: 0.3470612300559116.\n",
      "[I 2025-01-17 11:52:53,068] Trial 22 finished with value: 0.34651575071594165 and parameters: {'n_neighbours': 20, 'p': 1}. Best is trial 16 with value: 0.3470612300559116.\n",
      "[I 2025-01-17 11:52:56,390] Trial 23 finished with value: 0.34678849038592663 and parameters: {'n_neighbours': 26, 'p': 1}. Best is trial 16 with value: 0.3470612300559116.\n",
      "[I 2025-01-17 11:52:59,703] Trial 24 finished with value: 0.34665212055093414 and parameters: {'n_neighbours': 23, 'p': 1}. Best is trial 16 with value: 0.3470612300559116.\n",
      "[I 2025-01-17 11:53:03,635] Trial 25 finished with value: 0.34651575071594165 and parameters: {'n_neighbours': 19, 'p': 1}. Best is trial 16 with value: 0.3470612300559116.\n",
      "[I 2025-01-17 11:53:08,397] Trial 26 finished with value: 0.3136506204827492 and parameters: {'n_neighbours': 23, 'p': 2}. Best is trial 16 with value: 0.3470612300559116.\n",
      "[I 2025-01-17 11:53:11,810] Trial 27 finished with value: 0.34651575071594165 and parameters: {'n_neighbours': 19, 'p': 1}. Best is trial 16 with value: 0.3470612300559116.\n",
      "[I 2025-01-17 11:53:15,200] Trial 28 finished with value: 0.34678849038592663 and parameters: {'n_neighbours': 26, 'p': 1}. Best is trial 16 with value: 0.3470612300559116.\n",
      "[I 2025-01-17 11:53:18,688] Trial 29 finished with value: 0.34637938088094916 and parameters: {'n_neighbours': 16, 'p': 1}. Best is trial 16 with value: 0.3470612300559116.\n"
     ]
    },
    {
     "ename": "KeyError",
     "evalue": "'n_neighbors'",
     "output_type": "error",
     "traceback": [
      "\u001b[1;31m---------------------------------------------------------------------------\u001b[0m",
      "\u001b[1;31mKeyError\u001b[0m                                  Traceback (most recent call last)",
      "Cell \u001b[1;32mIn[36], line 1\u001b[0m\n\u001b[1;32m----> 1\u001b[0m \u001b[43moptuna_run_experiment\u001b[49m\u001b[43m(\u001b[49m\u001b[43m)\u001b[49m\n",
      "Cell \u001b[1;32mIn[35], line 6\u001b[0m, in \u001b[0;36moptuna_run_experiment\u001b[1;34m()\u001b[0m\n\u001b[0;32m      3\u001b[0m study\u001b[38;5;241m.\u001b[39moptimize(objective_knn, n_trials\u001b[38;5;241m=\u001b[39m\u001b[38;5;241m30\u001b[39m)\n\u001b[0;32m      5\u001b[0m best_params \u001b[38;5;241m=\u001b[39m study\u001b[38;5;241m.\u001b[39mbest_params\n\u001b[1;32m----> 6\u001b[0m best_model \u001b[38;5;241m=\u001b[39m KNeighborsClassifier(n_neighbors\u001b[38;5;241m=\u001b[39m\u001b[43mbest_params\u001b[49m\u001b[43m[\u001b[49m\u001b[38;5;124;43m'\u001b[39;49m\u001b[38;5;124;43mn_neighbors\u001b[39;49m\u001b[38;5;124;43m'\u001b[39;49m\u001b[43m]\u001b[49m, p\u001b[38;5;241m=\u001b[39mbest_params[\u001b[38;5;124m'\u001b[39m\u001b[38;5;124mp\u001b[39m\u001b[38;5;124m'\u001b[39m])\n\u001b[0;32m      8\u001b[0m log_mlflow(\u001b[38;5;124m\"\u001b[39m\u001b[38;5;124mKNN\u001b[39m\u001b[38;5;124m\"\u001b[39m, best_model, X_train_trf, y_train, X_test_trf, y_test)\n",
      "\u001b[1;31mKeyError\u001b[0m: 'n_neighbors'"
     ]
    }
   ],
   "source": [
    "optuna_run_experiment()"
   ]
  }
 ],
 "metadata": {
  "kernelspec": {
   "display_name": "myenv",
   "language": "python",
   "name": "python3"
  },
  "language_info": {
   "codemirror_mode": {
    "name": "ipython",
    "version": 3
   },
   "file_extension": ".py",
   "mimetype": "text/x-python",
   "name": "python",
   "nbconvert_exporter": "python",
   "pygments_lexer": "ipython3",
   "version": "3.13.0"
  }
 },
 "nbformat": 4,
 "nbformat_minor": 2
}
