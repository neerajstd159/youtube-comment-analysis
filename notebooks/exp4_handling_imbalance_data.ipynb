{
 "cells": [
  {
   "cell_type": "code",
   "execution_count": 28,
   "metadata": {},
   "outputs": [],
   "source": [
    "import numpy as np\n",
    "import pandas as pd\n",
    "import mlflow"
   ]
  },
  {
   "cell_type": "code",
   "execution_count": null,
   "metadata": {},
   "outputs": [
    {
     "data": {
      "text/plain": [
       "<Experiment: artifact_location='s3://neeraj-first-bucket/309714134278689943', creation_time=1736860723048, experiment_id='309714134278689943', last_update_time=1736860723048, lifecycle_stage='active', name='Exp 4 - Handling imbalance data', tags={}>"
      ]
     },
     "execution_count": 29,
     "metadata": {},
     "output_type": "execute_result"
    }
   ],
   "source": [
    "mlflow.set_tracking_uri('http://ec2-51-20-64-139.eu-north-1.compute.amazonaws.com:5000')\n",
    "mlflow.set_experiment('exp 4 - Handling imbalance data')"
   ]
  },
  {
   "cell_type": "code",
   "execution_count": 30,
   "metadata": {},
   "outputs": [
    {
     "name": "stdout",
     "output_type": "stream",
     "text": [
      "Requirement already satisfied: imblearn in c:\\data\\projects\\comment_analysis\\myenv\\lib\\site-packages (0.0)\n",
      "Requirement already satisfied: imbalanced-learn in c:\\data\\projects\\comment_analysis\\myenv\\lib\\site-packages (from imblearn) (0.13.0)\n",
      "Requirement already satisfied: numpy<3,>=1.24.3 in c:\\data\\projects\\comment_analysis\\myenv\\lib\\site-packages (from imbalanced-learn->imblearn) (2.2.1)\n",
      "Requirement already satisfied: scipy<2,>=1.10.1 in c:\\data\\projects\\comment_analysis\\myenv\\lib\\site-packages (from imbalanced-learn->imblearn) (1.15.0)\n",
      "Requirement already satisfied: scikit-learn<2,>=1.3.2 in c:\\data\\projects\\comment_analysis\\myenv\\lib\\site-packages (from imbalanced-learn->imblearn) (1.6.0)\n",
      "Requirement already satisfied: sklearn-compat<1,>=0.1 in c:\\data\\projects\\comment_analysis\\myenv\\lib\\site-packages (from imbalanced-learn->imblearn) (0.1.3)\n",
      "Requirement already satisfied: joblib<2,>=1.1.1 in c:\\data\\projects\\comment_analysis\\myenv\\lib\\site-packages (from imbalanced-learn->imblearn) (1.4.2)\n",
      "Requirement already satisfied: threadpoolctl<4,>=2.0.0 in c:\\data\\projects\\comment_analysis\\myenv\\lib\\site-packages (from imbalanced-learn->imblearn) (3.5.0)\n"
     ]
    },
    {
     "name": "stderr",
     "output_type": "stream",
     "text": [
      "\n",
      "[notice] A new release of pip is available: 24.2 -> 24.3.1\n",
      "[notice] To update, run: python.exe -m pip install --upgrade pip\n"
     ]
    }
   ],
   "source": [
    "!pip install imblearn"
   ]
  },
  {
   "cell_type": "code",
   "execution_count": 31,
   "metadata": {},
   "outputs": [],
   "source": [
    "from imblearn.over_sampling import SMOTE, ADASYN\n",
    "from imblearn.under_sampling import RandomUnderSampler\n",
    "from imblearn.combine import SMOTEENN\n",
    "from sklearn.feature_extraction.text import TfidfVectorizer\n",
    "from sklearn.ensemble import RandomForestClassifier\n",
    "from sklearn.model_selection import train_test_split\n",
    "from sklearn.metrics import accuracy_score, classification_report, confusion_matrix\n",
    "import matplotlib.pyplot as plt\n",
    "import seaborn as sns\n",
    "import os"
   ]
  },
  {
   "cell_type": "code",
   "execution_count": 32,
   "metadata": {},
   "outputs": [],
   "source": [
    "df = pd.read_csv('dataset.csv')\n",
    "df.head()\n",
    "df.dropna(inplace=True)"
   ]
  },
  {
   "cell_type": "code",
   "execution_count": 33,
   "metadata": {},
   "outputs": [],
   "source": [
    "def run_experiment(imbalance_method):\n",
    "    ngram_range = (1,2)\n",
    "    max_features = 2000\n",
    "\n",
    "    # split data\n",
    "    X_train, X_test, y_train, y_test = train_test_split(df['clean_comment'], df['category'], test_size=0.2)\n",
    "\n",
    "    # vectorizer\n",
    "    vectorizer = TfidfVectorizer(max_features=max_features, ngram_range=ngram_range)\n",
    "    X_train_trf = vectorizer.fit_transform(X_train)\n",
    "    X_test_trf = vectorizer.transform(X_test)\n",
    "\n",
    "    # class imbalance\n",
    "    if  imbalance_method == 'class_weights':\n",
    "        class_weight = 'balanced'\n",
    "    else:\n",
    "        class_weight = None\n",
    "        # Resampleing tech\n",
    "        if imbalance_method == 'oversampling':\n",
    "            smote = SMOTE(random_state=42)\n",
    "            X_train_trf, y_train = smote.fit_resample(X_train_trf, y_train)\n",
    "        elif imbalance_method == 'adasyn':\n",
    "            adasyn = ADASYN(random_state=42)\n",
    "            X_train_trf, y_train = adasyn.fit_resample(X_train_trf, y_train)\n",
    "        elif imbalance_method == 'undersampling':\n",
    "            random_sample = RandomUnderSampler(random_state=42)\n",
    "            X_train_trf, y_train = random_sample.fit_resample(X_train_trf, y_train)\n",
    "        elif imbalance_method == 'smote_enn':\n",
    "            smote_enn = SMOTEENN(random_state=42)\n",
    "            X_train_trf, y_train = smote_enn.fit_resample(X_train_trf, y_train)\n",
    "    \n",
    "    with mlflow.start_run() as run:\n",
    "        mlflow.set_tag(\"mlflow.runName\", f\"Imbalance_{imbalance_method}_RandomForestClassifier_Tfidf_bigrams\")\n",
    "        mlflow.set_tag(\"experiment_type\", \"imbalance_handling\")\n",
    "        mlflow.set_tag(\"model_type\", f\"RandomForestClassifier\")\n",
    "        mlflow.set_tag(\"description\", f\"RandomForest with Tf-Idf bigrams, imbalance_handling_method={imbalance_method}\")\n",
    "\n",
    "        mlflow.log_param(\"class_weight\", f\"{class_weight}\")\n",
    "        mlflow.log_param(\"imbalance_method\", f\"{imbalance_method}\")\n",
    "        mlflow.log_param(\"vectorizer_type\", f\"Tf-idf\")\n",
    "        mlflow.log_param(\"ngram_range\", f\"{ngram_range}\")\n",
    "        mlflow.log_param(\"vectorizer_max_features\", f\"{max_features}\")\n",
    "\n",
    "        n_estimators = 200\n",
    "        max_depth = 15\n",
    "\n",
    "        mlflow.log_param(\"n_estimators\", n_estimators)\n",
    "        mlflow.log_param(\"max_depth\", max_depth)\n",
    "\n",
    "        # model\n",
    "        model = RandomForestClassifier(n_estimators=n_estimators, max_depth=max_depth)\n",
    "        model.fit(X_train_trf, y_train)\n",
    "        y_pred = model.predict(X_test_trf)\n",
    "\n",
    "        # metrics\n",
    "        accuracy = accuracy_score(y_test, y_pred)\n",
    "        class_report = classification_report(y_test, y_pred, output_dict=True)\n",
    "        conf_matrix = confusion_matrix(y_test, y_pred)\n",
    "\n",
    "        mlflow.log_metric(\"accuracy\", accuracy)\n",
    "        for label, metrics in class_report.items():\n",
    "            if isinstance(metrics, dict):\n",
    "                for metric, value in metrics.items():\n",
    "                    mlflow.log_metric(f\"{label}_{metric}\", value)\n",
    "        \n",
    "\n",
    "\n",
    "        plt.figure(figsize=(8,6))\n",
    "        sns.heatmap(conf_matrix, annot=True, fmt=\"d\", cmap=\"Blues\")\n",
    "        plt.title(f\"Confusion Matrix: TF-IDF Bigrams, Imbalance={imbalance_method}\")\n",
    "        plt.xlabel(\"Predicted\")\n",
    "        plt.ylabel(\"Actual\")\n",
    "        plt.savefig(f\"confusion_matrix_{imbalance_method}.png\")\n",
    "        mlflow.log_artifact(f\"confusion_matrix_{imbalance_method}.png\")\n",
    "        plt.close()\n",
    "\n",
    "        # Log the model\n",
    "        mlflow.sklearn.log_model(model, f\"random_forest_model_tfidf_trigrams_imbalance_{imbalance_method}\")"
   ]
  },
  {
   "cell_type": "code",
   "execution_count": 34,
   "metadata": {},
   "outputs": [
    {
     "name": "stderr",
     "output_type": "stream",
     "text": [
      "2025/01/14 19:01:04 WARNING mlflow.models.model: Model logged without a signature and input example. Please set `input_example` parameter when logging the model to auto infer the model signature.\n"
     ]
    },
    {
     "name": "stdout",
     "output_type": "stream",
     "text": [
      "🏃 View run Imbalance_class_weights_RandomForestClassifier_Tfidf_bigrams at: http://ec2-13-61-2-37.eu-north-1.compute.amazonaws.com:5000/#/experiments/309714134278689943/runs/64436155b95345de9ca6a0bdb28d47c4\n",
      "🧪 View experiment at: http://ec2-13-61-2-37.eu-north-1.compute.amazonaws.com:5000/#/experiments/309714134278689943\n"
     ]
    },
    {
     "name": "stderr",
     "output_type": "stream",
     "text": [
      "2025/01/14 19:02:00 WARNING mlflow.models.model: Model logged without a signature and input example. Please set `input_example` parameter when logging the model to auto infer the model signature.\n"
     ]
    },
    {
     "name": "stdout",
     "output_type": "stream",
     "text": [
      "🏃 View run Imbalance_oversampling_RandomForestClassifier_Tfidf_bigrams at: http://ec2-13-61-2-37.eu-north-1.compute.amazonaws.com:5000/#/experiments/309714134278689943/runs/7a35d5ba1ce442d099fd73f5d49e7f53\n",
      "🧪 View experiment at: http://ec2-13-61-2-37.eu-north-1.compute.amazonaws.com:5000/#/experiments/309714134278689943\n"
     ]
    },
    {
     "name": "stderr",
     "output_type": "stream",
     "text": [
      "2025/01/14 19:03:01 WARNING mlflow.models.model: Model logged without a signature and input example. Please set `input_example` parameter when logging the model to auto infer the model signature.\n"
     ]
    },
    {
     "name": "stdout",
     "output_type": "stream",
     "text": [
      "🏃 View run Imbalance_adasyn_RandomForestClassifier_Tfidf_bigrams at: http://ec2-13-61-2-37.eu-north-1.compute.amazonaws.com:5000/#/experiments/309714134278689943/runs/824bed9cb5f4445eb9d68fc03520de08\n",
      "🧪 View experiment at: http://ec2-13-61-2-37.eu-north-1.compute.amazonaws.com:5000/#/experiments/309714134278689943\n"
     ]
    },
    {
     "name": "stderr",
     "output_type": "stream",
     "text": [
      "2025/01/14 19:03:52 WARNING mlflow.models.model: Model logged without a signature and input example. Please set `input_example` parameter when logging the model to auto infer the model signature.\n"
     ]
    },
    {
     "name": "stdout",
     "output_type": "stream",
     "text": [
      "🏃 View run Imbalance_undersampling_RandomForestClassifier_Tfidf_bigrams at: http://ec2-13-61-2-37.eu-north-1.compute.amazonaws.com:5000/#/experiments/309714134278689943/runs/c3a9ce7f052c4fc4911c04f3e0947566\n",
      "🧪 View experiment at: http://ec2-13-61-2-37.eu-north-1.compute.amazonaws.com:5000/#/experiments/309714134278689943\n"
     ]
    },
    {
     "name": "stderr",
     "output_type": "stream",
     "text": [
      "2025/01/14 19:05:03 WARNING mlflow.models.model: Model logged without a signature and input example. Please set `input_example` parameter when logging the model to auto infer the model signature.\n"
     ]
    },
    {
     "name": "stdout",
     "output_type": "stream",
     "text": [
      "🏃 View run Imbalance_smote_enn_RandomForestClassifier_Tfidf_bigrams at: http://ec2-13-61-2-37.eu-north-1.compute.amazonaws.com:5000/#/experiments/309714134278689943/runs/2394a27d7acc4db8a41b18a61d283202\n",
      "🧪 View experiment at: http://ec2-13-61-2-37.eu-north-1.compute.amazonaws.com:5000/#/experiments/309714134278689943\n"
     ]
    }
   ],
   "source": [
    "# Step 7: Run experiments for different imbalance methods\n",
    "imbalance_methods = ['class_weights', 'oversampling', 'adasyn', 'undersampling', 'smote_enn']\n",
    "\n",
    "for method in imbalance_methods:\n",
    "    run_experiment(method)"
   ]
  }
 ],
 "metadata": {
  "kernelspec": {
   "display_name": "myenv",
   "language": "python",
   "name": "python3"
  },
  "language_info": {
   "codemirror_mode": {
    "name": "ipython",
    "version": 3
   },
   "file_extension": ".py",
   "mimetype": "text/x-python",
   "name": "python",
   "nbconvert_exporter": "python",
   "pygments_lexer": "ipython3",
   "version": "3.13.0"
  }
 },
 "nbformat": 4,
 "nbformat_minor": 2
}
