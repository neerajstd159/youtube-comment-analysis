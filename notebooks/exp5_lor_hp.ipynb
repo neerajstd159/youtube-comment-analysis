{
 "cells": [
  {
   "cell_type": "code",
   "execution_count": 1,
   "metadata": {},
   "outputs": [],
   "source": [
    "import numpy as np\n",
    "import pandas as pd\n",
    "import mlflow"
   ]
  },
  {
   "cell_type": "code",
   "execution_count": 2,
   "metadata": {},
   "outputs": [
    {
     "data": {
      "text/plain": [
       "<Experiment: artifact_location='s3://neeraj-first-bucket/870835495118995563', creation_time=1736945300249, experiment_id='870835495118995563', last_update_time=1736945300249, lifecycle_stage='active', name='Exp 5 - ML Algos with HP Tuning', tags={}>"
      ]
     },
     "execution_count": 2,
     "metadata": {},
     "output_type": "execute_result"
    }
   ],
   "source": [
    "mlflow.set_tracking_uri('http://ec2-13-61-2-37.eu-north-1.compute.amazonaws.com:5000')\n",
    "mlflow.set_experiment('Exp 5 - ML Algos with HP Tuning')"
   ]
  },
  {
   "cell_type": "code",
   "execution_count": 3,
   "metadata": {},
   "outputs": [
    {
     "name": "stderr",
     "output_type": "stream",
     "text": [
      "c:\\data\\projects\\comment_analysis\\myenv\\Lib\\site-packages\\tqdm\\auto.py:21: TqdmWarning: IProgress not found. Please update jupyter and ipywidgets. See https://ipywidgets.readthedocs.io/en/stable/user_install.html\n",
      "  from .autonotebook import tqdm as notebook_tqdm\n"
     ]
    }
   ],
   "source": [
    "from sklearn.linear_model import LogisticRegression\n",
    "from sklearn.feature_extraction.text import TfidfVectorizer\n",
    "from sklearn.model_selection import train_test_split\n",
    "from sklearn.metrics import accuracy_score, classification_report\n",
    "from imblearn.over_sampling import ADASYN\n",
    "import optuna"
   ]
  },
  {
   "cell_type": "code",
   "execution_count": 4,
   "metadata": {},
   "outputs": [
    {
     "data": {
      "text/html": [
       "<div>\n",
       "<style scoped>\n",
       "    .dataframe tbody tr th:only-of-type {\n",
       "        vertical-align: middle;\n",
       "    }\n",
       "\n",
       "    .dataframe tbody tr th {\n",
       "        vertical-align: top;\n",
       "    }\n",
       "\n",
       "    .dataframe thead th {\n",
       "        text-align: right;\n",
       "    }\n",
       "</style>\n",
       "<table border=\"1\" class=\"dataframe\">\n",
       "  <thead>\n",
       "    <tr style=\"text-align: right;\">\n",
       "      <th></th>\n",
       "      <th>clean_comment</th>\n",
       "      <th>category</th>\n",
       "    </tr>\n",
       "  </thead>\n",
       "  <tbody>\n",
       "    <tr>\n",
       "      <th>0</th>\n",
       "      <td>family mormon never tried explain still stare ...</td>\n",
       "      <td>1</td>\n",
       "    </tr>\n",
       "    <tr>\n",
       "      <th>1</th>\n",
       "      <td>buddhism much lot compatible christianity espe...</td>\n",
       "      <td>1</td>\n",
       "    </tr>\n",
       "    <tr>\n",
       "      <th>2</th>\n",
       "      <td>seriously say thing first get complex explain ...</td>\n",
       "      <td>-1</td>\n",
       "    </tr>\n",
       "    <tr>\n",
       "      <th>3</th>\n",
       "      <td>learned want teach different focus goal not wr...</td>\n",
       "      <td>0</td>\n",
       "    </tr>\n",
       "    <tr>\n",
       "      <th>4</th>\n",
       "      <td>benefit may want read living buddha living chr...</td>\n",
       "      <td>1</td>\n",
       "    </tr>\n",
       "  </tbody>\n",
       "</table>\n",
       "</div>"
      ],
      "text/plain": [
       "                                       clean_comment  category\n",
       "0  family mormon never tried explain still stare ...         1\n",
       "1  buddhism much lot compatible christianity espe...         1\n",
       "2  seriously say thing first get complex explain ...        -1\n",
       "3  learned want teach different focus goal not wr...         0\n",
       "4  benefit may want read living buddha living chr...         1"
      ]
     },
     "execution_count": 4,
     "metadata": {},
     "output_type": "execute_result"
    }
   ],
   "source": [
    "df = pd.read_csv('dataset.csv')\n",
    "df.dropna(inplace=True)\n",
    "df.head()"
   ]
  },
  {
   "cell_type": "code",
   "execution_count": 5,
   "metadata": {},
   "outputs": [],
   "source": [
    "X_train, X_test, y_train, y_test = train_test_split(df['clean_comment'], df['category'], test_size=0.2)\n",
    "\n",
    "# vectorizer\n",
    "ngram_range = (1,2)\n",
    "max_features = 2000\n",
    "vectorizer = TfidfVectorizer(max_features=max_features, ngram_range=ngram_range)\n",
    "X_train_trf = vectorizer.fit_transform(X_train)\n",
    "X_test_trf = vectorizer.fit_transform(X_test)\n",
    "\n",
    "# oversampling\n",
    "adasyn = ADASYN(random_state=42)\n",
    "X_train_trf, y_train = adasyn.fit_resample(X_train_trf, y_train)\n"
   ]
  },
  {
   "cell_type": "code",
   "execution_count": 6,
   "metadata": {},
   "outputs": [],
   "source": [
    "def log_mlflow(model_name, model, X_train, y_train, X_test, y_test):\n",
    "    with mlflow.start_run():\n",
    "        mlflow.set_tag(\"mlflow.runName\", f\"{model_name}_Adasyn_Tfidf_Bigram\")\n",
    "        mlflow.set_tag(\"experiment_type\", \"algorithm_comparison\")\n",
    "        mlflow.log_param(\"algorithm\", model_name)\n",
    "\n",
    "        # model\n",
    "        model.fit(X_train, y_train)\n",
    "        y_pred = model.predict(X_test)\n",
    "\n",
    "        # metrics\n",
    "        accuracy = accuracy_score(y_test, y_pred)\n",
    "        class_report = classification_report(y_test, y_pred, output_dict=True)\n",
    "\n",
    "        mlflow.log_metric(\"accoracy\", accuracy)\n",
    "        for label, metrics in class_report.items():\n",
    "            if isinstance(metrics, dict):\n",
    "                for metric, value in metrics.items():\n",
    "                    mlflow.log_metric(f\"{label}_{metric}\", value)\n",
    "\n",
    "        mlflow.sklearn.log_model(model, f\"{model_name}_model\")"
   ]
  },
  {
   "cell_type": "code",
   "execution_count": 7,
   "metadata": {},
   "outputs": [],
   "source": [
    "def objective_svm(trial):\n",
    "    C = trial.suggest_float('C', 1e-4, 10.0, log=True)\n",
    "    penalty = trial.suggest_categorical('penalty', ['l1', 'l2'])\n",
    "\n",
    "    model = LogisticRegression(C=C, penalty=penalty, solver='liblinear', random_state=42)\n",
    "    return accuracy_score(y_test, model.fit(X_train_trf, y_train).predict(X_test_trf))"
   ]
  },
  {
   "cell_type": "code",
   "execution_count": 8,
   "metadata": {},
   "outputs": [],
   "source": [
    "def optuna_run_experiment():\n",
    "    study = optuna.create_study(direction='maximize')\n",
    "    study.optimize(objective_svm, n_trials=30)\n",
    "\n",
    "    best_params = study.best_params\n",
    "    best_model = LogisticRegression(C=best_params['C'], penalty=best_params['penalty'], solver='liblinear', random_state=42)\n",
    "    \n",
    "    log_mlflow(\"LoR\", best_model, X_train_trf, y_train, X_test_trf, y_test)"
   ]
  },
  {
   "cell_type": "code",
   "execution_count": 9,
   "metadata": {},
   "outputs": [
    {
     "name": "stderr",
     "output_type": "stream",
     "text": [
      "[I 2025-01-17 11:26:40,880] A new study created in memory with name: no-name-3de133a4-8725-4a99-ac9a-7314829debf7\n",
      "[I 2025-01-17 11:26:41,039] Trial 0 finished with value: 0.4286103913814264 and parameters: {'C': 0.00233358755413244, 'penalty': 'l1'}. Best is trial 0 with value: 0.4286103913814264.\n",
      "[I 2025-01-17 11:26:41,361] Trial 1 finished with value: 0.45083867448520387 and parameters: {'C': 0.27154666641862885, 'penalty': 'l2'}. Best is trial 1 with value: 0.45083867448520387.\n",
      "[I 2025-01-17 11:26:41,457] Trial 2 finished with value: 0.32756034365198416 and parameters: {'C': 0.0013501230201704993, 'penalty': 'l2'}. Best is trial 1 with value: 0.45083867448520387.\n",
      "[I 2025-01-17 11:26:41,533] Trial 3 finished with value: 0.4286103913814264 and parameters: {'C': 0.0050236412366821805, 'penalty': 'l1'}. Best is trial 1 with value: 0.45083867448520387.\n",
      "[I 2025-01-17 11:26:41,604] Trial 4 finished with value: 0.4286103913814264 and parameters: {'C': 0.003862003315355495, 'penalty': 'l1'}. Best is trial 1 with value: 0.45083867448520387.\n",
      "[I 2025-01-17 11:26:41,915] Trial 5 finished with value: 0.4351561434610664 and parameters: {'C': 0.08817778894094323, 'penalty': 'l2'}. Best is trial 1 with value: 0.45083867448520387.\n",
      "[I 2025-01-17 11:26:42,118] Trial 6 finished with value: 0.42711032319650893 and parameters: {'C': 0.004549461512194312, 'penalty': 'l2'}. Best is trial 1 with value: 0.45083867448520387.\n",
      "[I 2025-01-17 11:26:42,218] Trial 7 finished with value: 0.4292922405563889 and parameters: {'C': 0.00012606086868227877, 'penalty': 'l2'}. Best is trial 1 with value: 0.45083867448520387.\n",
      "[I 2025-01-17 11:26:42,521] Trial 8 finished with value: 0.45397518069003134 and parameters: {'C': 1.5380785862016648, 'penalty': 'l1'}. Best is trial 8 with value: 0.45397518069003134.\n",
      "[I 2025-01-17 11:26:42,595] Trial 9 finished with value: 0.4286103913814264 and parameters: {'C': 0.004540831125141428, 'penalty': 'l1'}. Best is trial 8 with value: 0.45397518069003134.\n",
      "[I 2025-01-17 11:26:43,014] Trial 10 finished with value: 0.45042956498022635 and parameters: {'C': 5.664246353490474, 'penalty': 'l1'}. Best is trial 8 with value: 0.45397518069003134.\n",
      "[I 2025-01-17 11:26:43,451] Trial 11 finished with value: 0.4515205236601664 and parameters: {'C': 0.8616552016121161, 'penalty': 'l2'}. Best is trial 8 with value: 0.45397518069003134.\n",
      "[I 2025-01-17 11:26:43,803] Trial 12 finished with value: 0.45179326333015135 and parameters: {'C': 2.5720382295498068, 'penalty': 'l1'}. Best is trial 8 with value: 0.45397518069003134.\n",
      "[I 2025-01-17 11:26:44,122] Trial 13 finished with value: 0.45015682531024137 and parameters: {'C': 5.984244550031617, 'penalty': 'l1'}. Best is trial 8 with value: 0.45397518069003134.\n",
      "[I 2025-01-17 11:26:44,399] Trial 14 finished with value: 0.44961134597027136 and parameters: {'C': 0.9885333481192907, 'penalty': 'l1'}. Best is trial 8 with value: 0.45397518069003134.\n",
      "[I 2025-01-17 11:26:44,665] Trial 15 finished with value: 0.4535660711850539 and parameters: {'C': 1.5791344260565123, 'penalty': 'l1'}. Best is trial 8 with value: 0.45397518069003134.\n",
      "[I 2025-01-17 11:26:44,805] Trial 16 finished with value: 0.38892676939860904 and parameters: {'C': 0.05326698794265882, 'penalty': 'l1'}. Best is trial 8 with value: 0.45397518069003134.\n",
      "[I 2025-01-17 11:26:45,033] Trial 17 finished with value: 0.42206463930178645 and parameters: {'C': 0.23196706410745924, 'penalty': 'l1'}. Best is trial 8 with value: 0.45397518069003134.\n",
      "[I 2025-01-17 11:26:45,301] Trial 18 finished with value: 0.4490658666303014 and parameters: {'C': 0.942048500553382, 'penalty': 'l1'}. Best is trial 8 with value: 0.45397518069003134.\n",
      "[I 2025-01-17 11:26:45,404] Trial 19 finished with value: 0.3620619119050866 and parameters: {'C': 0.0221395048925734, 'penalty': 'l1'}. Best is trial 8 with value: 0.45397518069003134.\n",
      "[I 2025-01-17 11:26:45,837] Trial 20 finished with value: 0.4477021682803764 and parameters: {'C': 9.975570266265553, 'penalty': 'l1'}. Best is trial 8 with value: 0.45397518069003134.\n",
      "[I 2025-01-17 11:26:46,115] Trial 21 finished with value: 0.45261148234010634 and parameters: {'C': 2.125493192181658, 'penalty': 'l1'}. Best is trial 8 with value: 0.45397518069003134.\n",
      "[I 2025-01-17 11:26:46,389] Trial 22 finished with value: 0.45315696168007635 and parameters: {'C': 2.2231612473203146, 'penalty': 'l1'}. Best is trial 8 with value: 0.45397518069003134.\n",
      "[I 2025-01-17 11:26:46,552] Trial 23 finished with value: 0.4301104595663439 and parameters: {'C': 0.31182356719955584, 'penalty': 'l1'}. Best is trial 8 with value: 0.45397518069003134.\n",
      "[I 2025-01-17 11:26:46,853] Trial 24 finished with value: 0.45179326333015135 and parameters: {'C': 1.9781179163262843, 'penalty': 'l1'}. Best is trial 8 with value: 0.45397518069003134.\n",
      "[I 2025-01-17 11:26:47,063] Trial 25 finished with value: 0.43829264966589393 and parameters: {'C': 0.49416900877020914, 'penalty': 'l1'}. Best is trial 8 with value: 0.45397518069003134.\n",
      "[I 2025-01-17 11:26:47,168] Trial 26 finished with value: 0.3602891040501841 and parameters: {'C': 0.015236624025397806, 'penalty': 'l1'}. Best is trial 8 with value: 0.45397518069003134.\n",
      "[I 2025-01-17 11:26:47,290] Trial 27 finished with value: 0.401745533887904 and parameters: {'C': 0.10789578716650187, 'penalty': 'l1'}. Best is trial 8 with value: 0.45397518069003134.\n",
      "[I 2025-01-17 11:26:47,574] Trial 28 finished with value: 0.4513841538251739 and parameters: {'C': 3.31424857740303, 'penalty': 'l1'}. Best is trial 8 with value: 0.45397518069003134.\n",
      "[I 2025-01-17 11:26:47,739] Trial 29 finished with value: 0.40951861448247645 and parameters: {'C': 0.16195931027808244, 'penalty': 'l1'}. Best is trial 8 with value: 0.45397518069003134.\n"
     ]
    },
    {
     "name": "stdout",
     "output_type": "stream",
     "text": [
      "🏃 View run LoR_Adasyn_Tfidf_Bigram at: http://ec2-13-61-2-37.eu-north-1.compute.amazonaws.com:5000/#/experiments/870835495118995563/runs/3ebd02dc05974cd4a4d0393cbddd8627\n",
      "🧪 View experiment at: http://ec2-13-61-2-37.eu-north-1.compute.amazonaws.com:5000/#/experiments/870835495118995563\n"
     ]
    },
    {
     "ename": "AttributeError",
     "evalue": "'str' object has no attribute 'items'",
     "output_type": "error",
     "traceback": [
      "\u001b[1;31m---------------------------------------------------------------------------\u001b[0m",
      "\u001b[1;31mAttributeError\u001b[0m                            Traceback (most recent call last)",
      "Cell \u001b[1;32mIn[9], line 1\u001b[0m\n\u001b[1;32m----> 1\u001b[0m \u001b[43moptuna_run_experiment\u001b[49m\u001b[43m(\u001b[49m\u001b[43m)\u001b[49m\n",
      "Cell \u001b[1;32mIn[8], line 8\u001b[0m, in \u001b[0;36moptuna_run_experiment\u001b[1;34m()\u001b[0m\n\u001b[0;32m      5\u001b[0m best_params \u001b[38;5;241m=\u001b[39m study\u001b[38;5;241m.\u001b[39mbest_params\n\u001b[0;32m      6\u001b[0m best_model \u001b[38;5;241m=\u001b[39m LogisticRegression(C\u001b[38;5;241m=\u001b[39mbest_params[\u001b[38;5;124m'\u001b[39m\u001b[38;5;124mC\u001b[39m\u001b[38;5;124m'\u001b[39m], penalty\u001b[38;5;241m=\u001b[39mbest_params[\u001b[38;5;124m'\u001b[39m\u001b[38;5;124mpenalty\u001b[39m\u001b[38;5;124m'\u001b[39m], solver\u001b[38;5;241m=\u001b[39m\u001b[38;5;124m'\u001b[39m\u001b[38;5;124mliblinear\u001b[39m\u001b[38;5;124m'\u001b[39m, random_state\u001b[38;5;241m=\u001b[39m\u001b[38;5;241m42\u001b[39m)\n\u001b[1;32m----> 8\u001b[0m \u001b[43mlog_mlflow\u001b[49m\u001b[43m(\u001b[49m\u001b[38;5;124;43m\"\u001b[39;49m\u001b[38;5;124;43mLoR\u001b[39;49m\u001b[38;5;124;43m\"\u001b[39;49m\u001b[43m,\u001b[49m\u001b[43m \u001b[49m\u001b[43mbest_model\u001b[49m\u001b[43m,\u001b[49m\u001b[43m \u001b[49m\u001b[43mX_train_trf\u001b[49m\u001b[43m,\u001b[49m\u001b[43m \u001b[49m\u001b[43my_train\u001b[49m\u001b[43m,\u001b[49m\u001b[43m \u001b[49m\u001b[43mX_test_trf\u001b[49m\u001b[43m,\u001b[49m\u001b[43m \u001b[49m\u001b[43my_test\u001b[49m\u001b[43m)\u001b[49m\n",
      "Cell \u001b[1;32mIn[6], line 16\u001b[0m, in \u001b[0;36mlog_mlflow\u001b[1;34m(model_name, model, X_train, y_train, X_test, y_test)\u001b[0m\n\u001b[0;32m     13\u001b[0m class_report \u001b[38;5;241m=\u001b[39m classification_report(y_test, y_pred)\n\u001b[0;32m     15\u001b[0m mlflow\u001b[38;5;241m.\u001b[39mlog_metric(\u001b[38;5;124m\"\u001b[39m\u001b[38;5;124maccoracy\u001b[39m\u001b[38;5;124m\"\u001b[39m, accuracy)\n\u001b[1;32m---> 16\u001b[0m \u001b[38;5;28;01mfor\u001b[39;00m label, metrics \u001b[38;5;129;01min\u001b[39;00m \u001b[43mclass_report\u001b[49m\u001b[38;5;241;43m.\u001b[39;49m\u001b[43mitems\u001b[49m():\n\u001b[0;32m     17\u001b[0m     \u001b[38;5;28;01mif\u001b[39;00m \u001b[38;5;28misinstance\u001b[39m(metrics, \u001b[38;5;28mdict\u001b[39m):\n\u001b[0;32m     18\u001b[0m         \u001b[38;5;28;01mfor\u001b[39;00m metric, value \u001b[38;5;129;01min\u001b[39;00m metrics\u001b[38;5;241m.\u001b[39mitems():\n",
      "\u001b[1;31mAttributeError\u001b[0m: 'str' object has no attribute 'items'"
     ]
    }
   ],
   "source": [
    "optuna_run_experiment()"
   ]
  }
 ],
 "metadata": {
  "kernelspec": {
   "display_name": "myenv",
   "language": "python",
   "name": "python3"
  },
  "language_info": {
   "codemirror_mode": {
    "name": "ipython",
    "version": 3
   },
   "file_extension": ".py",
   "mimetype": "text/x-python",
   "name": "python",
   "nbconvert_exporter": "python",
   "pygments_lexer": "ipython3",
   "version": "3.13.0"
  }
 },
 "nbformat": 4,
 "nbformat_minor": 2
}
